{
  "nbformat": 4,
  "nbformat_minor": 0,
  "metadata": {
    "colab": {
      "name": "Introduction to Algorithm Analysis and Big O.ipynb",
      "provenance": [],
      "collapsed_sections": []
    },
    "kernelspec": {
      "name": "python3",
      "display_name": "Python 3"
    },
    "language_info": {
      "name": "python"
    }
  },
  "cells": [
    {
      "cell_type": "markdown",
      "metadata": {
        "id": "3IpS7fbYQVPG"
      },
      "source": [
        "**Introduction to Algorithm Analysis and Big O**"
      ]
    },
    {
      "cell_type": "code",
      "metadata": {
        "id": "o_EerYsiQCYu"
      },
      "source": [
        "# First function\n",
        "def sum1(n):\n",
        "  '''\n",
        "  Take an input of n and return the sum of the numbers from 0 to n\n",
        "  '''\n",
        "  final_sum = 0\n",
        "  for i in range(n+1): \n",
        "      final_sum += i\n",
        "    \n",
        "  return final_sum"
      ],
      "execution_count": 3,
      "outputs": []
    },
    {
      "cell_type": "code",
      "metadata": {
        "colab": {
          "base_uri": "https://localhost:8080/"
        },
        "id": "AS6hrgg-RYVL",
        "outputId": "fb7571b1-9e51-4ae1-f75a-926534fbee64"
      },
      "source": [
        "sum1(10)"
      ],
      "execution_count": 4,
      "outputs": [
        {
          "output_type": "execute_result",
          "data": {
            "text/plain": [
              "55"
            ]
          },
          "metadata": {},
          "execution_count": 4
        }
      ]
    },
    {
      "cell_type": "code",
      "metadata": {
        "id": "eKi887UnRbty"
      },
      "source": [
        "# Second function\n",
        "def sum2(n):\n",
        "  '''\n",
        "  Take an input of n and return the sum of the numbers from 0 to n\n",
        "  '''\n",
        "  return (n * (n + 1)) / 2"
      ],
      "execution_count": 7,
      "outputs": []
    },
    {
      "cell_type": "code",
      "metadata": {
        "colab": {
          "base_uri": "https://localhost:8080/"
        },
        "id": "dubM6Ik3R2Mw",
        "outputId": "639e702e-d655-439b-a087-fed7106dc9f8"
      },
      "source": [
        "sum2(10)"
      ],
      "execution_count": 6,
      "outputs": [
        {
          "output_type": "execute_result",
          "data": {
            "text/plain": [
              "55"
            ]
          },
          "metadata": {},
          "execution_count": 6
        }
      ]
    },
    {
      "cell_type": "markdown",
      "metadata": {
        "id": "pG7lAJ9PSHHz"
      },
      "source": [
        "You'll notice both functions have the same result, but completely different algorithms. You'll note that the first function iteratively adds the numbers, while the second function makes use of:$$ \\sum_{i=0}^{n} {i} = \\frac{n(n+1)}{2} $$\n",
        "\n",
        "So how can we objectively compare the algorithms? We could compare the amount of space they take in memory or we could also compare how much time it takes each function to run. We can use the built in **%timeit** magic function in jupyter to compare the time of the functions. The **%timeit** magic in Jupyter Notebooks will repeat the loop iteration a certain number of times and take the best result."
      ]
    },
    {
      "cell_type": "code",
      "metadata": {
        "colab": {
          "base_uri": "https://localhost:8080/"
        },
        "id": "X9vIROkvR3WR",
        "outputId": "42e9f0f8-67d4-475a-fbc0-0fc5ffcbac24"
      },
      "source": [
        "%timeit sum1(100)"
      ],
      "execution_count": 8,
      "outputs": [
        {
          "output_type": "stream",
          "name": "stdout",
          "text": [
            "100000 loops, best of 5: 5.42 µs per loop\n"
          ]
        }
      ]
    },
    {
      "cell_type": "code",
      "metadata": {
        "colab": {
          "base_uri": "https://localhost:8080/"
        },
        "id": "gJyPo2RuSfB3",
        "outputId": "e28078c2-989f-4f04-ffb3-2df4fb9b9829"
      },
      "source": [
        "%timeit sum2(100)"
      ],
      "execution_count": 9,
      "outputs": [
        {
          "output_type": "stream",
          "name": "stdout",
          "text": [
            "The slowest run took 22.49 times longer than the fastest. This could mean that an intermediate result is being cached.\n",
            "10000000 loops, best of 5: 171 ns per loop\n"
          ]
        }
      ]
    },
    {
      "cell_type": "markdown",
      "metadata": {
        "id": "msQBsXDZSyjB"
      },
      "source": [
        "We can see that the second function is much more efficient! Running at a much faster rate than the first. However, we can not use \"time to run\" as an objective measurement, because that will depend on the speed of the computer itself and hardware capabilities. So we will need to use another method, **Big-O!**"
      ]
    }
  ]
}