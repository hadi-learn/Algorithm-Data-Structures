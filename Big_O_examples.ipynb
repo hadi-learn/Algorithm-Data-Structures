{
  "nbformat": 4,
  "nbformat_minor": 0,
  "metadata": {
    "colab": {
      "name": "Big O examples.ipynb",
      "provenance": []
    },
    "kernelspec": {
      "name": "python3",
      "display_name": "Python 3"
    },
    "language_info": {
      "name": "python"
    }
  },
  "cells": [
    {
      "cell_type": "markdown",
      "metadata": {
        "id": "1a6f6qUM6jUG"
      },
      "source": [
        "**O(1) Constant**"
      ]
    },
    {
      "cell_type": "code",
      "metadata": {
        "colab": {
          "base_uri": "https://localhost:8080/"
        },
        "id": "mYp1jxAA40Fs",
        "outputId": "5b92c127-6a0a-45b0-f85a-661282a49e5a"
      },
      "source": [
        "def func_constant(values):\n",
        "  '''\n",
        "  prints first item in the list values\n",
        "  '''\n",
        "  print(values[0])\n",
        "\n",
        "func_constant([1, 2, 3])"
      ],
      "execution_count": 1,
      "outputs": [
        {
          "output_type": "stream",
          "name": "stdout",
          "text": [
            "1\n"
          ]
        }
      ]
    },
    {
      "cell_type": "markdown",
      "metadata": {
        "id": "OWjFS_1u6tI_"
      },
      "source": [
        "**O(n) Linear**"
      ]
    },
    {
      "cell_type": "code",
      "metadata": {
        "colab": {
          "base_uri": "https://localhost:8080/"
        },
        "id": "JbAu41s06eUu",
        "outputId": "744a7909-2752-4f29-8903-4e99a78cc7a5"
      },
      "source": [
        "def func_linear(lst):\n",
        "  '''\n",
        "  Takes list and print all the values\n",
        "  '''\n",
        "  for value in lst:\n",
        "    print(value)\n",
        "\n",
        "func_linear([1, 2, 3])"
      ],
      "execution_count": 4,
      "outputs": [
        {
          "output_type": "stream",
          "name": "stdout",
          "text": [
            "1\n",
            "2\n",
            "3\n"
          ]
        }
      ]
    },
    {
      "cell_type": "markdown",
      "metadata": {
        "id": "ll8aVFiI7bTU"
      },
      "source": [
        "**O(n^2) Quadratic**"
      ]
    },
    {
      "cell_type": "code",
      "metadata": {
        "colab": {
          "base_uri": "https://localhost:8080/"
        },
        "id": "mRFH5u8Z7QuJ",
        "outputId": "313918b3-30ba-4426-ebe6-f86edd202dae"
      },
      "source": [
        "def func_quadratic(lst):\n",
        "  '''\n",
        "  Print pairs for every item in list\n",
        "  '''\n",
        "  for item_1 in lst:\n",
        "    for item_2 in lst:\n",
        "      print(item_1, item_2)\n",
        "\n",
        "func_quadratic((1, 2, 3, 4))"
      ],
      "execution_count": 10,
      "outputs": [
        {
          "output_type": "stream",
          "name": "stdout",
          "text": [
            "1 1\n",
            "1 2\n",
            "1 3\n",
            "1 4\n",
            "2 1\n",
            "2 2\n",
            "2 3\n",
            "2 4\n",
            "3 1\n",
            "3 2\n",
            "3 3\n",
            "3 4\n",
            "4 1\n",
            "4 2\n",
            "4 3\n",
            "4 4\n"
          ]
        }
      ]
    },
    {
      "cell_type": "markdown",
      "metadata": {
        "id": "StwkQO0j7jIu"
      },
      "source": [
        "**Calculating Scale of Big O**"
      ]
    },
    {
      "cell_type": "code",
      "metadata": {
        "id": "W8fZR8u68mPE"
      },
      "source": [
        "def print_once(lst):\n",
        "  '''\n",
        "  Prints all items once\n",
        "  '''\n",
        "  for value in lst:\n",
        "    print(value)"
      ],
      "execution_count": 12,
      "outputs": []
    },
    {
      "cell_type": "code",
      "metadata": {
        "colab": {
          "base_uri": "https://localhost:8080/"
        },
        "id": "WLhU2k0X86Tj",
        "outputId": "de59afd9-daed-4487-bb1c-dfc6f4055859"
      },
      "source": [
        "a_list = [0, 1, 2, 3]\n",
        "print_once(a_list)"
      ],
      "execution_count": 15,
      "outputs": [
        {
          "output_type": "stream",
          "name": "stdout",
          "text": [
            "0\n",
            "1\n",
            "2\n",
            "3\n"
          ]
        }
      ]
    },
    {
      "cell_type": "code",
      "metadata": {
        "id": "3qRqZqQJ9BvL"
      },
      "source": [
        "def print_3(lst):\n",
        "  '''\n",
        "  prints all items three times\n",
        "  '''\n",
        "  for value in lst:\n",
        "    print(value)\n",
        "  \n",
        "  for value in lst:\n",
        "    print(value)\n",
        "\n",
        "  for value in lst:\n",
        "    print(value)"
      ],
      "execution_count": 16,
      "outputs": []
    },
    {
      "cell_type": "code",
      "metadata": {
        "colab": {
          "base_uri": "https://localhost:8080/"
        },
        "id": "7hXHIipQ9lNH",
        "outputId": "da20b86f-7725-413b-c7a2-8045281587ad"
      },
      "source": [
        "print_3(a_list)"
      ],
      "execution_count": 17,
      "outputs": [
        {
          "output_type": "stream",
          "name": "stdout",
          "text": [
            "0\n",
            "1\n",
            "2\n",
            "3\n",
            "0\n",
            "1\n",
            "2\n",
            "3\n",
            "0\n",
            "1\n",
            "2\n",
            "3\n"
          ]
        }
      ]
    },
    {
      "cell_type": "code",
      "metadata": {
        "id": "JiHffvGW-BC1"
      },
      "source": [
        "def func_compare(lst):\n",
        "  '''\n",
        "  this function prints the first item O(1)\n",
        "  then prints the first half of the list O(n/2)\n",
        "  then prints a string 10 times O(10)\n",
        "  '''\n",
        "  print(lst[0])\n",
        "\n",
        "  midpoint = int(len(lst) / 2)\n",
        "  for value in lst[:midpoint]:\n",
        "    print(value)\n",
        "  \n",
        "  for i in range(10):\n",
        "    print(\"Number\")"
      ],
      "execution_count": 22,
      "outputs": []
    },
    {
      "cell_type": "code",
      "metadata": {
        "colab": {
          "base_uri": "https://localhost:8080/"
        },
        "id": "FGXfFS8SHrEc",
        "outputId": "f92c2ab0-9532-4346-9c89-64e54f1dc221"
      },
      "source": [
        "b_list = [1, 2, 3, 4, 5, 6, 7, 8, 9, 10]\n",
        "func_compare(b_list)"
      ],
      "execution_count": 23,
      "outputs": [
        {
          "output_type": "stream",
          "name": "stdout",
          "text": [
            "1\n",
            "1\n",
            "2\n",
            "3\n",
            "4\n",
            "5\n",
            "Number\n",
            "Number\n",
            "Number\n",
            "Number\n",
            "Number\n",
            "Number\n",
            "Number\n",
            "Number\n",
            "Number\n",
            "Number\n"
          ]
        }
      ]
    },
    {
      "cell_type": "markdown",
      "metadata": {
        "id": "nkQLiRojIfyy"
      },
      "source": [
        "**Worst Case VS Best Case**"
      ]
    },
    {
      "cell_type": "code",
      "metadata": {
        "id": "hr2uVzx1H2ki"
      },
      "source": [
        "def matcher(lst, match):\n",
        "  '''\n",
        "  given a list, return a boolean indicating if a match item is in the list\n",
        "  '''\n",
        "  for item in lst:\n",
        "    if item == match:\n",
        "      return True\n",
        "  return False"
      ],
      "execution_count": 26,
      "outputs": []
    },
    {
      "cell_type": "code",
      "metadata": {
        "colab": {
          "base_uri": "https://localhost:8080/"
        },
        "id": "3MpES_B2Jgtf",
        "outputId": "5e834445-a2b6-4718-931a-f3de9ab682d6"
      },
      "source": [
        "b_list"
      ],
      "execution_count": 30,
      "outputs": [
        {
          "output_type": "execute_result",
          "data": {
            "text/plain": [
              "[1, 2, 3, 4, 5, 6, 7, 8, 9, 10]"
            ]
          },
          "metadata": {},
          "execution_count": 30
        }
      ]
    },
    {
      "cell_type": "code",
      "metadata": {
        "colab": {
          "base_uri": "https://localhost:8080/"
        },
        "id": "Df6wURNMJda2",
        "outputId": "57613bc6-7363-4c94-d3bd-b332a1c91a4c"
      },
      "source": [
        "matcher(b_list, 1)"
      ],
      "execution_count": 29,
      "outputs": [
        {
          "output_type": "execute_result",
          "data": {
            "text/plain": [
              "True"
            ]
          },
          "metadata": {},
          "execution_count": 29
        }
      ]
    },
    {
      "cell_type": "code",
      "metadata": {
        "colab": {
          "base_uri": "https://localhost:8080/"
        },
        "id": "1wQc8myfI-mT",
        "outputId": "55b9d9ba-67f6-48e3-9caf-f0cb9a213b7d"
      },
      "source": [
        "matcher(b_list, 5)"
      ],
      "execution_count": 27,
      "outputs": [
        {
          "output_type": "execute_result",
          "data": {
            "text/plain": [
              "True"
            ]
          },
          "metadata": {},
          "execution_count": 27
        }
      ]
    },
    {
      "cell_type": "code",
      "metadata": {
        "colab": {
          "base_uri": "https://localhost:8080/"
        },
        "id": "5GTh0bYTJCix",
        "outputId": "b025e367-d882-409a-c6cf-91e8aba371db"
      },
      "source": [
        "matcher(b_list, 33)"
      ],
      "execution_count": 28,
      "outputs": [
        {
          "output_type": "execute_result",
          "data": {
            "text/plain": [
              "False"
            ]
          },
          "metadata": {},
          "execution_count": 28
        }
      ]
    },
    {
      "cell_type": "markdown",
      "metadata": {
        "id": "MK0AUVAYJkN8"
      },
      "source": [
        "**Space Complexity**"
      ]
    },
    {
      "cell_type": "code",
      "metadata": {
        "id": "bW5T2RlmJYBY"
      },
      "source": [
        "def printer(n=10):\n",
        "  '''\n",
        "  prints \"hello world!\" 10 times\n",
        "  '''\n",
        "  for i in range(n):\n",
        "    print(\"Hello World!\")"
      ],
      "execution_count": 31,
      "outputs": []
    },
    {
      "cell_type": "code",
      "metadata": {
        "colab": {
          "base_uri": "https://localhost:8080/"
        },
        "id": "isPQ7NPGKDzh",
        "outputId": "4bf90bee-dc50-4d7a-e8fc-c3bcc7d378d6"
      },
      "source": [
        "printer()"
      ],
      "execution_count": 33,
      "outputs": [
        {
          "output_type": "stream",
          "name": "stdout",
          "text": [
            "Hello World!\n",
            "Hello World!\n",
            "Hello World!\n",
            "Hello World!\n",
            "Hello World!\n",
            "Hello World!\n",
            "Hello World!\n",
            "Hello World!\n",
            "Hello World!\n",
            "Hello World!\n"
          ]
        }
      ]
    },
    {
      "cell_type": "markdown",
      "metadata": {
        "id": "kz3I2YqoKOQh"
      },
      "source": [
        "Note how we only assign the 'hello world!' variable once, not every time we print. So the algorithm has O(1) **space** complexity and an O(n) **time** complexity."
      ]
    },
    {
      "cell_type": "code",
      "metadata": {
        "id": "qQAQnXWPKEd5"
      },
      "source": [
        "def create_list(n):\n",
        "  new_list = []\n",
        "\n",
        "  for i in range(n):\n",
        "    new_list.append(\"new\")\n",
        "  \n",
        "  return new_list"
      ],
      "execution_count": 34,
      "outputs": []
    },
    {
      "cell_type": "code",
      "metadata": {
        "colab": {
          "base_uri": "https://localhost:8080/"
        },
        "id": "uwzhnUgUKpVp",
        "outputId": "f30f1588-6300-48d8-fc4d-6773f4c78e33"
      },
      "source": [
        "create_list(5)"
      ],
      "execution_count": 35,
      "outputs": [
        {
          "output_type": "execute_result",
          "data": {
            "text/plain": [
              "['new', 'new', 'new', 'new', 'new']"
            ]
          },
          "metadata": {},
          "execution_count": 35
        }
      ]
    },
    {
      "cell_type": "markdown",
      "metadata": {
        "id": "oiYnpHuqK_gL"
      },
      "source": [
        "Note how the size of the new_list object scales with the input n, this shows that it is an O(n) algorithm with regards to **space** complexity.\n",
        "\n"
      ]
    }
  ]
}