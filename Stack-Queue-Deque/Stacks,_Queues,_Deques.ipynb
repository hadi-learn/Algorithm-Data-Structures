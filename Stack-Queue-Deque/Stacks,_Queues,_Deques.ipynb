{
  "nbformat": 4,
  "nbformat_minor": 0,
  "metadata": {
    "colab": {
      "name": "Stacks, Queues, Deques.ipynb",
      "provenance": [],
      "collapsed_sections": []
    },
    "kernelspec": {
      "name": "python3",
      "display_name": "Python 3"
    },
    "language_info": {
      "name": "python"
    }
  },
  "cells": [
    {
      "cell_type": "markdown",
      "metadata": {
        "id": "9GZjlcaktzPp"
      },
      "source": [
        "**Stack Example**"
      ]
    },
    {
      "cell_type": "markdown",
      "metadata": {
        "id": "xMEktn8n0zGH"
      },
      "source": [
        "Stack is Last In First Out mechanism"
      ]
    },
    {
      "cell_type": "code",
      "metadata": {
        "id": "EI_Mj40ett98"
      },
      "source": [
        "class Stack:\n",
        "  \n",
        "  def __init__(self):\n",
        "    self.items = []\n",
        "  \n",
        "  def isEmpty(self):\n",
        "    return self.items == []\n",
        "  \n",
        "  def peekTop(self):\n",
        "    if self.isEmpty():\n",
        "      return print(\"Stack is Empty\")\n",
        "    return self.items[-1]\n",
        "\n",
        "  def peekBase(self):\n",
        "    if self.isEmpty():\n",
        "      return print(\"Stack is Empty\")\n",
        "    return self.items[0]\n",
        "  \n",
        "  def size(self):\n",
        "    return len(self.items)\n",
        "  \n",
        "  def push(self, item):  # add an item to the stack\n",
        "    self.items.append(item)\n",
        "  \n",
        "  def pop(self):  # remove the last added item from the stack\n",
        "    if self.isEmpty():\n",
        "      return print(\"Stack is Empty\")\n",
        "    return self.items.pop()\n",
        "  \n",
        "  def content(self):\n",
        "    return print(f\"BASE-- {self.items} --TOP\")"
      ],
      "execution_count": null,
      "outputs": []
    },
    {
      "cell_type": "code",
      "metadata": {
        "id": "S9GEyCrFyUVd"
      },
      "source": [
        "stack = Stack()"
      ],
      "execution_count": null,
      "outputs": []
    },
    {
      "cell_type": "code",
      "metadata": {
        "colab": {
          "base_uri": "https://localhost:8080/"
        },
        "id": "iexX90u5yZbl",
        "outputId": "74321586-f3ce-46e3-86e7-c86d99bff4ec"
      },
      "source": [
        "stack.isEmpty()"
      ],
      "execution_count": null,
      "outputs": [
        {
          "output_type": "execute_result",
          "data": {
            "text/plain": [
              "True"
            ]
          },
          "metadata": {},
          "execution_count": 56
        }
      ]
    },
    {
      "cell_type": "code",
      "metadata": {
        "colab": {
          "base_uri": "https://localhost:8080/"
        },
        "id": "bzfRd1QMyb1D",
        "outputId": "f7c1a032-ac82-4a59-9148-9e6751773f11"
      },
      "source": [
        "stack.peekTop()"
      ],
      "execution_count": null,
      "outputs": [
        {
          "output_type": "stream",
          "name": "stdout",
          "text": [
            "Stack is Empty\n"
          ]
        }
      ]
    },
    {
      "cell_type": "code",
      "metadata": {
        "colab": {
          "base_uri": "https://localhost:8080/"
        },
        "id": "JM_AMD92yecu",
        "outputId": "2df563be-f928-4359-acba-b3cc27a16ac7"
      },
      "source": [
        "stack.peekBase()"
      ],
      "execution_count": null,
      "outputs": [
        {
          "output_type": "stream",
          "name": "stdout",
          "text": [
            "Stack is Empty\n"
          ]
        }
      ]
    },
    {
      "cell_type": "code",
      "metadata": {
        "colab": {
          "base_uri": "https://localhost:8080/"
        },
        "id": "9nAKFaV7ygwH",
        "outputId": "d3574544-5e31-4604-ff08-258a1150948b"
      },
      "source": [
        "stack.size()"
      ],
      "execution_count": null,
      "outputs": [
        {
          "output_type": "execute_result",
          "data": {
            "text/plain": [
              "0"
            ]
          },
          "metadata": {},
          "execution_count": 59
        }
      ]
    },
    {
      "cell_type": "code",
      "metadata": {
        "id": "BLjkWHPoyitO"
      },
      "source": [
        "stack.push(\"hi\")"
      ],
      "execution_count": null,
      "outputs": []
    },
    {
      "cell_type": "code",
      "metadata": {
        "id": "qQwt7eAqymxS"
      },
      "source": [
        "stack.push(1)"
      ],
      "execution_count": null,
      "outputs": []
    },
    {
      "cell_type": "code",
      "metadata": {
        "id": "zxaB0zuXypAf"
      },
      "source": [
        "stack.push(\"good\")"
      ],
      "execution_count": null,
      "outputs": []
    },
    {
      "cell_type": "code",
      "metadata": {
        "colab": {
          "base_uri": "https://localhost:8080/"
        },
        "id": "-gQWgyunzC0H",
        "outputId": "9ad7555e-f517-4f25-df20-d9a1b896fd2e"
      },
      "source": [
        "stack.size()"
      ],
      "execution_count": null,
      "outputs": [
        {
          "output_type": "execute_result",
          "data": {
            "text/plain": [
              "3"
            ]
          },
          "metadata": {},
          "execution_count": 63
        }
      ]
    },
    {
      "cell_type": "code",
      "metadata": {
        "colab": {
          "base_uri": "https://localhost:8080/",
          "height": 35
        },
        "id": "06m_3yeezEjW",
        "outputId": "fd2922ec-7048-4d71-c972-76fdedc88f86"
      },
      "source": [
        "stack.peekTop()"
      ],
      "execution_count": null,
      "outputs": [
        {
          "output_type": "execute_result",
          "data": {
            "application/vnd.google.colaboratory.intrinsic+json": {
              "type": "string"
            },
            "text/plain": [
              "'good'"
            ]
          },
          "metadata": {},
          "execution_count": 64
        }
      ]
    },
    {
      "cell_type": "code",
      "metadata": {
        "colab": {
          "base_uri": "https://localhost:8080/",
          "height": 35
        },
        "id": "858A8Tr4zHAx",
        "outputId": "bb9561d0-3c1b-408c-fbaf-79493dd7b132"
      },
      "source": [
        "stack.peekBase()"
      ],
      "execution_count": null,
      "outputs": [
        {
          "output_type": "execute_result",
          "data": {
            "application/vnd.google.colaboratory.intrinsic+json": {
              "type": "string"
            },
            "text/plain": [
              "'hi'"
            ]
          },
          "metadata": {},
          "execution_count": 65
        }
      ]
    },
    {
      "cell_type": "code",
      "metadata": {
        "colab": {
          "base_uri": "https://localhost:8080/"
        },
        "id": "dUIdHRlXzIyz",
        "outputId": "9708db72-0137-4be1-c723-50fc6be97797"
      },
      "source": [
        "stack.content()"
      ],
      "execution_count": null,
      "outputs": [
        {
          "output_type": "stream",
          "name": "stdout",
          "text": [
            "BASE-- ['hi', 1, 'good'] --TOP\n"
          ]
        }
      ]
    },
    {
      "cell_type": "code",
      "metadata": {
        "id": "KCMUvtkXzLzQ",
        "colab": {
          "base_uri": "https://localhost:8080/",
          "height": 35
        },
        "outputId": "e8130e0d-0b8f-470d-dfcf-554b4856e1d1"
      },
      "source": [
        "stack.pop()"
      ],
      "execution_count": null,
      "outputs": [
        {
          "output_type": "execute_result",
          "data": {
            "application/vnd.google.colaboratory.intrinsic+json": {
              "type": "string"
            },
            "text/plain": [
              "'good'"
            ]
          },
          "metadata": {},
          "execution_count": 67
        }
      ]
    },
    {
      "cell_type": "code",
      "metadata": {
        "colab": {
          "base_uri": "https://localhost:8080/"
        },
        "id": "OGtnYNlDzy0Q",
        "outputId": "a5a77730-fb83-4a96-bcbe-63658c39e623"
      },
      "source": [
        "stack.content()"
      ],
      "execution_count": null,
      "outputs": [
        {
          "output_type": "stream",
          "name": "stdout",
          "text": [
            "BASE-- ['hi', 1] --TOP\n"
          ]
        }
      ]
    },
    {
      "cell_type": "code",
      "metadata": {
        "colab": {
          "base_uri": "https://localhost:8080/"
        },
        "id": "e-6Vhur_z00J",
        "outputId": "0f948703-84ec-4108-d8b8-ada7c9ea0cb3"
      },
      "source": [
        "stack.pop()"
      ],
      "execution_count": null,
      "outputs": [
        {
          "output_type": "execute_result",
          "data": {
            "text/plain": [
              "1"
            ]
          },
          "metadata": {},
          "execution_count": 69
        }
      ]
    },
    {
      "cell_type": "code",
      "metadata": {
        "colab": {
          "base_uri": "https://localhost:8080/"
        },
        "id": "DIC6jAhLz2fE",
        "outputId": "119e5eb1-3a70-4ba1-8bc6-5884e5b3e1fb"
      },
      "source": [
        "stack.content()"
      ],
      "execution_count": null,
      "outputs": [
        {
          "output_type": "stream",
          "name": "stdout",
          "text": [
            "BASE-- ['hi'] --TOP\n"
          ]
        }
      ]
    },
    {
      "cell_type": "code",
      "metadata": {
        "colab": {
          "base_uri": "https://localhost:8080/",
          "height": 35
        },
        "id": "zfxM_e0mz4kd",
        "outputId": "ec38c580-bb0c-4eb4-8759-055290989810"
      },
      "source": [
        "stack.pop()"
      ],
      "execution_count": null,
      "outputs": [
        {
          "output_type": "execute_result",
          "data": {
            "application/vnd.google.colaboratory.intrinsic+json": {
              "type": "string"
            },
            "text/plain": [
              "'hi'"
            ]
          },
          "metadata": {},
          "execution_count": 71
        }
      ]
    },
    {
      "cell_type": "code",
      "metadata": {
        "colab": {
          "base_uri": "https://localhost:8080/"
        },
        "id": "oQ_Qvo56z587",
        "outputId": "ea80cb79-fd83-434d-a014-cac884138ace"
      },
      "source": [
        "stack.content()"
      ],
      "execution_count": null,
      "outputs": [
        {
          "output_type": "stream",
          "name": "stdout",
          "text": [
            "BASE-- [] --TOP\n"
          ]
        }
      ]
    },
    {
      "cell_type": "code",
      "metadata": {
        "colab": {
          "base_uri": "https://localhost:8080/"
        },
        "id": "OFgFCYZEz7zV",
        "outputId": "100605fc-b33a-47c4-8687-ddaf32416b8f"
      },
      "source": [
        "stack.pop()"
      ],
      "execution_count": null,
      "outputs": [
        {
          "output_type": "stream",
          "name": "stdout",
          "text": [
            "Stack is Empty\n"
          ]
        }
      ]
    },
    {
      "cell_type": "markdown",
      "metadata": {
        "id": "S1zhMWe60kjh"
      },
      "source": [
        "**Queue Example**"
      ]
    },
    {
      "cell_type": "markdown",
      "metadata": {
        "id": "Uydi_4Hy0511"
      },
      "source": [
        "Queue is First In First Out / First In First Served mechanism"
      ]
    },
    {
      "cell_type": "code",
      "metadata": {
        "id": "JFg3QLAez9N1"
      },
      "source": [
        "class Queue:\n",
        "\n",
        "  def __init__(self):\n",
        "    self.items = []\n",
        "  \n",
        "  def isEmpty(self):\n",
        "    return self.items == []\n",
        "  \n",
        "  def size(self):\n",
        "    return len(self.items)\n",
        "  \n",
        "  def peekFront(self):\n",
        "    if self.isEmpty():\n",
        "      return print(\"The Queue is Empty\")\n",
        "    return self.items[0]\n",
        "  \n",
        "  def peekRear(self):\n",
        "    if self.isEmpty():\n",
        "      return print(\"The Queue is Empty\")\n",
        "    return self.items[-1]\n",
        "  \n",
        "  def enqueue(self, item):  # add item into the queue\n",
        "    self.items.append(item)\n",
        "  \n",
        "  def dequeue(self):  # remove item located at the front of the queue\n",
        "    if self.isEmpty():\n",
        "      return print(\"The Queue is empty, nothing to dequeue\")\n",
        "    return self.items.pop(0)\n",
        "  \n",
        "  def content(self):\n",
        "    return print(f\"FRONT-- {self.items} --REAR\")"
      ],
      "execution_count": null,
      "outputs": []
    },
    {
      "cell_type": "code",
      "metadata": {
        "id": "eqg4ku565a4V"
      },
      "source": [
        "queue = Queue()"
      ],
      "execution_count": null,
      "outputs": []
    },
    {
      "cell_type": "code",
      "metadata": {
        "colab": {
          "base_uri": "https://localhost:8080/"
        },
        "id": "afCBSlV05e21",
        "outputId": "4dae03c4-b2e5-467c-a360-6604a34f2821"
      },
      "source": [
        "queue.isEmpty()"
      ],
      "execution_count": null,
      "outputs": [
        {
          "output_type": "execute_result",
          "data": {
            "text/plain": [
              "True"
            ]
          },
          "metadata": {},
          "execution_count": 102
        }
      ]
    },
    {
      "cell_type": "code",
      "metadata": {
        "colab": {
          "base_uri": "https://localhost:8080/"
        },
        "id": "OWZnZABY5hED",
        "outputId": "bae35426-dc5f-4175-c13e-69a5521407a4"
      },
      "source": [
        "queue.content()"
      ],
      "execution_count": null,
      "outputs": [
        {
          "output_type": "stream",
          "name": "stdout",
          "text": [
            "FRONT-- [] --REAR\n"
          ]
        }
      ]
    },
    {
      "cell_type": "code",
      "metadata": {
        "colab": {
          "base_uri": "https://localhost:8080/"
        },
        "id": "779VWm8d5kCw",
        "outputId": "bfaa1f8f-6ae3-4690-cc38-a5f24c0bddce"
      },
      "source": [
        "queue.size()"
      ],
      "execution_count": null,
      "outputs": [
        {
          "output_type": "execute_result",
          "data": {
            "text/plain": [
              "0"
            ]
          },
          "metadata": {},
          "execution_count": 104
        }
      ]
    },
    {
      "cell_type": "code",
      "metadata": {
        "id": "2wwWvtlg5ncD"
      },
      "source": [
        "queue.enqueue(\"hello\")"
      ],
      "execution_count": null,
      "outputs": []
    },
    {
      "cell_type": "code",
      "metadata": {
        "id": "lz8E48Cx5xEg"
      },
      "source": [
        "queue.enqueue(1)"
      ],
      "execution_count": null,
      "outputs": []
    },
    {
      "cell_type": "code",
      "metadata": {
        "id": "wb7q2VeU50CE"
      },
      "source": [
        "queue.enqueue(\"there\")"
      ],
      "execution_count": null,
      "outputs": []
    },
    {
      "cell_type": "code",
      "metadata": {
        "id": "bpcR2jbN52_N"
      },
      "source": [
        "queue.enqueue(14)"
      ],
      "execution_count": null,
      "outputs": []
    },
    {
      "cell_type": "code",
      "metadata": {
        "colab": {
          "base_uri": "https://localhost:8080/"
        },
        "id": "2Y8XAYAB575X",
        "outputId": "69d47e93-0bf5-4f1f-9170-3a7e71f3857c"
      },
      "source": [
        "queue.size()"
      ],
      "execution_count": null,
      "outputs": [
        {
          "output_type": "execute_result",
          "data": {
            "text/plain": [
              "4"
            ]
          },
          "metadata": {},
          "execution_count": 109
        }
      ]
    },
    {
      "cell_type": "code",
      "metadata": {
        "colab": {
          "base_uri": "https://localhost:8080/",
          "height": 35
        },
        "id": "WlZ3BnhF596g",
        "outputId": "6cac7009-db24-46c6-85e6-ff64ab2419d5"
      },
      "source": [
        "queue.peekFront()"
      ],
      "execution_count": null,
      "outputs": [
        {
          "output_type": "execute_result",
          "data": {
            "application/vnd.google.colaboratory.intrinsic+json": {
              "type": "string"
            },
            "text/plain": [
              "'hello'"
            ]
          },
          "metadata": {},
          "execution_count": 110
        }
      ]
    },
    {
      "cell_type": "code",
      "metadata": {
        "colab": {
          "base_uri": "https://localhost:8080/"
        },
        "id": "lUXPFXyb6ADc",
        "outputId": "a0bc54bf-86a6-45a2-dcac-33c79d8abf6b"
      },
      "source": [
        "queue.peekRear()"
      ],
      "execution_count": null,
      "outputs": [
        {
          "output_type": "execute_result",
          "data": {
            "text/plain": [
              "14"
            ]
          },
          "metadata": {},
          "execution_count": 111
        }
      ]
    },
    {
      "cell_type": "code",
      "metadata": {
        "colab": {
          "base_uri": "https://localhost:8080/"
        },
        "id": "F4Jbx_Bp6DWK",
        "outputId": "12dc5035-8d22-4e1d-ca95-2db1962a1cd4"
      },
      "source": [
        "queue.content()"
      ],
      "execution_count": null,
      "outputs": [
        {
          "output_type": "stream",
          "name": "stdout",
          "text": [
            "FRONT-- ['hello', 1, 'there', 14] --REAR\n"
          ]
        }
      ]
    },
    {
      "cell_type": "code",
      "metadata": {
        "colab": {
          "base_uri": "https://localhost:8080/",
          "height": 35
        },
        "id": "nZe7d7Cp6FlR",
        "outputId": "acee58c5-3ca8-4379-adb8-fc4469cb31de"
      },
      "source": [
        "queue.dequeue()"
      ],
      "execution_count": null,
      "outputs": [
        {
          "output_type": "execute_result",
          "data": {
            "application/vnd.google.colaboratory.intrinsic+json": {
              "type": "string"
            },
            "text/plain": [
              "'hello'"
            ]
          },
          "metadata": {},
          "execution_count": 113
        }
      ]
    },
    {
      "cell_type": "code",
      "metadata": {
        "colab": {
          "base_uri": "https://localhost:8080/"
        },
        "id": "90Yo_HWg6J2m",
        "outputId": "f9863b44-8b55-47d3-8bb0-d18f1e9a37d7"
      },
      "source": [
        "queue.content()"
      ],
      "execution_count": null,
      "outputs": [
        {
          "output_type": "stream",
          "name": "stdout",
          "text": [
            "FRONT-- [1, 'there', 14] --REAR\n"
          ]
        }
      ]
    },
    {
      "cell_type": "code",
      "metadata": {
        "colab": {
          "base_uri": "https://localhost:8080/"
        },
        "id": "_DGxbfOK6L-v",
        "outputId": "0e919f79-bf67-4adc-c958-4ab6c6987c8b"
      },
      "source": [
        "queue.dequeue()"
      ],
      "execution_count": null,
      "outputs": [
        {
          "output_type": "execute_result",
          "data": {
            "text/plain": [
              "1"
            ]
          },
          "metadata": {},
          "execution_count": 115
        }
      ]
    },
    {
      "cell_type": "code",
      "metadata": {
        "colab": {
          "base_uri": "https://localhost:8080/",
          "height": 35
        },
        "id": "vNAOAUDK6O9z",
        "outputId": "65b62a74-c112-4762-bbf4-9cfdab3f19e9"
      },
      "source": [
        "queue.dequeue()"
      ],
      "execution_count": null,
      "outputs": [
        {
          "output_type": "execute_result",
          "data": {
            "application/vnd.google.colaboratory.intrinsic+json": {
              "type": "string"
            },
            "text/plain": [
              "'there'"
            ]
          },
          "metadata": {},
          "execution_count": 116
        }
      ]
    },
    {
      "cell_type": "code",
      "metadata": {
        "colab": {
          "base_uri": "https://localhost:8080/"
        },
        "id": "Q0KlJEXO6RJC",
        "outputId": "4192a051-450c-4046-9290-7e2898f122ca"
      },
      "source": [
        "queue.content()"
      ],
      "execution_count": null,
      "outputs": [
        {
          "output_type": "stream",
          "name": "stdout",
          "text": [
            "FRONT-- [14] --REAR\n"
          ]
        }
      ]
    },
    {
      "cell_type": "code",
      "metadata": {
        "colab": {
          "base_uri": "https://localhost:8080/"
        },
        "id": "rqjY0C8P6TpV",
        "outputId": "25e57a67-1ce7-4991-c39d-625f57eae66c"
      },
      "source": [
        "queue.dequeue()"
      ],
      "execution_count": null,
      "outputs": [
        {
          "output_type": "execute_result",
          "data": {
            "text/plain": [
              "14"
            ]
          },
          "metadata": {},
          "execution_count": 118
        }
      ]
    },
    {
      "cell_type": "code",
      "metadata": {
        "colab": {
          "base_uri": "https://localhost:8080/"
        },
        "id": "t64EnRXe6Vjj",
        "outputId": "9f818d07-8df3-4227-bd7f-a2f44e2f37f8"
      },
      "source": [
        "queue.dequeue()"
      ],
      "execution_count": null,
      "outputs": [
        {
          "output_type": "stream",
          "name": "stdout",
          "text": [
            "The Queue is empty, nothing to dequeue\n"
          ]
        }
      ]
    },
    {
      "cell_type": "markdown",
      "metadata": {
        "id": "J2ekdPhf8AzZ"
      },
      "source": [
        "**Deque Example**"
      ]
    },
    {
      "cell_type": "markdown",
      "metadata": {
        "id": "mxVvS2uN8Er6"
      },
      "source": [
        "Unlike stack and queue, Deque's adding and removing item can be done on both end of the data structure"
      ]
    },
    {
      "cell_type": "code",
      "metadata": {
        "id": "4Nyv2LH_7z9i"
      },
      "source": [
        "class Deque:\n",
        "\n",
        "  def __init__(self):\n",
        "    self.items = []\n",
        "  \n",
        "  def isEmpty(self):\n",
        "    return self.items == []\n",
        "  \n",
        "  def size(self):\n",
        "    return len(self.items)\n",
        "  \n",
        "  def peekLeft(self):  # check the value on the smallest index\n",
        "    if self.isEmpty():\n",
        "      return print(\"The Structure is Empty.\")\n",
        "    return self.items[0]\n",
        "  \n",
        "  def peekRight(self):  # check the value on the biggest index\n",
        "    if self.isEmpty():\n",
        "      return print(\"The Structure is Empty.\")\n",
        "    return self.items[-1]\n",
        "  \n",
        "  def addLeft(self, item):\n",
        "    self.items.insert(0, item)\n",
        "  \n",
        "  def addRight(self, item):\n",
        "    self.items.append(item)\n",
        "  \n",
        "  def removeLeft(self):\n",
        "    if self.isEmpty():\n",
        "      return print(\"The Structure is empty, nothing to remove.\")\n",
        "    return self.items.pop(0)\n",
        "  \n",
        "  def removeRight(self):\n",
        "    if self.isEmpty():\n",
        "      return print(\"The Structure is empty, nothing to remove.\")\n",
        "    return self.items.pop()\n",
        "  \n",
        "  def content(self):\n",
        "    return print(f\"LEFT-- {self.items} --RIGHT\")"
      ],
      "execution_count": null,
      "outputs": []
    },
    {
      "cell_type": "code",
      "metadata": {
        "id": "JVR1aJjy-FWy"
      },
      "source": [
        "deque = Deque()"
      ],
      "execution_count": null,
      "outputs": []
    },
    {
      "cell_type": "code",
      "metadata": {
        "colab": {
          "base_uri": "https://localhost:8080/"
        },
        "id": "NSFe-csP-JOz",
        "outputId": "a455f582-fe02-47a1-c2a2-49f67449b041"
      },
      "source": [
        "deque.isEmpty()"
      ],
      "execution_count": null,
      "outputs": [
        {
          "output_type": "execute_result",
          "data": {
            "text/plain": [
              "True"
            ]
          },
          "metadata": {},
          "execution_count": 122
        }
      ]
    },
    {
      "cell_type": "code",
      "metadata": {
        "colab": {
          "base_uri": "https://localhost:8080/"
        },
        "id": "AqFVl53F-MAa",
        "outputId": "8388a974-2df8-4e05-b9a3-2cd6164d60ae"
      },
      "source": [
        "deque.size()"
      ],
      "execution_count": null,
      "outputs": [
        {
          "output_type": "execute_result",
          "data": {
            "text/plain": [
              "0"
            ]
          },
          "metadata": {},
          "execution_count": 123
        }
      ]
    },
    {
      "cell_type": "code",
      "metadata": {
        "colab": {
          "base_uri": "https://localhost:8080/"
        },
        "id": "R4SI0XvH-Ow2",
        "outputId": "79e23d4e-1c46-4d3a-fffc-f307833eca86"
      },
      "source": [
        "deque.content()"
      ],
      "execution_count": null,
      "outputs": [
        {
          "output_type": "stream",
          "name": "stdout",
          "text": [
            "LEFT-- [] --RIGHT\n"
          ]
        }
      ]
    },
    {
      "cell_type": "code",
      "metadata": {
        "id": "PYgA59ha-Qyo"
      },
      "source": [
        "deque.addLeft(\"hello\")"
      ],
      "execution_count": null,
      "outputs": []
    },
    {
      "cell_type": "code",
      "metadata": {
        "colab": {
          "base_uri": "https://localhost:8080/"
        },
        "id": "yHTdbGoh-XkR",
        "outputId": "d1169f62-c8a8-4aa5-9f0a-3b2c01345093"
      },
      "source": [
        "deque.content()"
      ],
      "execution_count": null,
      "outputs": [
        {
          "output_type": "stream",
          "name": "stdout",
          "text": [
            "LEFT-- ['hello'] --RIGHT\n"
          ]
        }
      ]
    },
    {
      "cell_type": "code",
      "metadata": {
        "id": "g1JlSJ7W-ZMR"
      },
      "source": [
        "deque.addLeft(\"morning\")"
      ],
      "execution_count": null,
      "outputs": []
    },
    {
      "cell_type": "code",
      "metadata": {
        "colab": {
          "base_uri": "https://localhost:8080/"
        },
        "id": "KHwfAXxP-dkl",
        "outputId": "1d1626fe-3d17-44d7-ca70-a35d3dfbdf26"
      },
      "source": [
        "deque.content()"
      ],
      "execution_count": null,
      "outputs": [
        {
          "output_type": "stream",
          "name": "stdout",
          "text": [
            "LEFT-- ['morning', 'hello'] --RIGHT\n"
          ]
        }
      ]
    },
    {
      "cell_type": "code",
      "metadata": {
        "id": "MNvPdEVQ-fxO"
      },
      "source": [
        "deque.addRight(\"there\")"
      ],
      "execution_count": null,
      "outputs": []
    },
    {
      "cell_type": "code",
      "metadata": {
        "colab": {
          "base_uri": "https://localhost:8080/"
        },
        "id": "xw1jyS1P-kgO",
        "outputId": "d52129b9-f463-4263-aa64-0e47de66e641"
      },
      "source": [
        "deque.content()"
      ],
      "execution_count": null,
      "outputs": [
        {
          "output_type": "stream",
          "name": "stdout",
          "text": [
            "LEFT-- ['morning', 'hello', 'there'] --RIGHT\n"
          ]
        }
      ]
    },
    {
      "cell_type": "code",
      "metadata": {
        "id": "Y_4WHT4v-mof"
      },
      "source": [
        "deque.addRight(14)"
      ],
      "execution_count": null,
      "outputs": []
    },
    {
      "cell_type": "code",
      "metadata": {
        "id": "6_oPJvZE-qpi"
      },
      "source": [
        "deque.addLeft(\"good\")"
      ],
      "execution_count": null,
      "outputs": []
    },
    {
      "cell_type": "code",
      "metadata": {
        "colab": {
          "base_uri": "https://localhost:8080/"
        },
        "id": "pYYk8MAm-tVp",
        "outputId": "fe42c689-4f19-45ef-c569-9154affb6a20"
      },
      "source": [
        "deque.content()"
      ],
      "execution_count": null,
      "outputs": [
        {
          "output_type": "stream",
          "name": "stdout",
          "text": [
            "LEFT-- ['good', 'morning', 'hello', 'there', 14] --RIGHT\n"
          ]
        }
      ]
    },
    {
      "cell_type": "code",
      "metadata": {
        "colab": {
          "base_uri": "https://localhost:8080/",
          "height": 35
        },
        "id": "ojfTytVN-vNR",
        "outputId": "493017f3-e3d9-4740-82c8-a91bae679544"
      },
      "source": [
        "deque.removeLeft()"
      ],
      "execution_count": null,
      "outputs": [
        {
          "output_type": "execute_result",
          "data": {
            "application/vnd.google.colaboratory.intrinsic+json": {
              "type": "string"
            },
            "text/plain": [
              "'good'"
            ]
          },
          "metadata": {},
          "execution_count": 134
        }
      ]
    },
    {
      "cell_type": "code",
      "metadata": {
        "colab": {
          "base_uri": "https://localhost:8080/"
        },
        "id": "hhn7aNCm-0Yj",
        "outputId": "a386ea23-3588-4ea8-d83d-0d43fe5720fb"
      },
      "source": [
        "deque.removeRight()"
      ],
      "execution_count": null,
      "outputs": [
        {
          "output_type": "execute_result",
          "data": {
            "text/plain": [
              "14"
            ]
          },
          "metadata": {},
          "execution_count": 135
        }
      ]
    },
    {
      "cell_type": "code",
      "metadata": {
        "colab": {
          "base_uri": "https://localhost:8080/"
        },
        "id": "t8XWL-qp-3vj",
        "outputId": "b359030f-8048-409e-ea4b-c402912b8b94"
      },
      "source": [
        "deque.content()"
      ],
      "execution_count": null,
      "outputs": [
        {
          "output_type": "stream",
          "name": "stdout",
          "text": [
            "LEFT-- ['morning', 'hello', 'there'] --RIGHT\n"
          ]
        }
      ]
    },
    {
      "cell_type": "code",
      "metadata": {
        "colab": {
          "base_uri": "https://localhost:8080/",
          "height": 35
        },
        "id": "5LKTSzSj-5mz",
        "outputId": "1711612e-b184-4892-a6c4-74fbe7d4610d"
      },
      "source": [
        "deque.removeLeft()"
      ],
      "execution_count": null,
      "outputs": [
        {
          "output_type": "execute_result",
          "data": {
            "application/vnd.google.colaboratory.intrinsic+json": {
              "type": "string"
            },
            "text/plain": [
              "'morning'"
            ]
          },
          "metadata": {},
          "execution_count": 137
        }
      ]
    },
    {
      "cell_type": "code",
      "metadata": {
        "colab": {
          "base_uri": "https://localhost:8080/"
        },
        "id": "akWHn7QK-8r9",
        "outputId": "e121848f-72be-44f0-b9f4-4882a74b3302"
      },
      "source": [
        "deque.content()"
      ],
      "execution_count": null,
      "outputs": [
        {
          "output_type": "stream",
          "name": "stdout",
          "text": [
            "LEFT-- ['hello', 'there'] --RIGHT\n"
          ]
        }
      ]
    },
    {
      "cell_type": "code",
      "metadata": {
        "colab": {
          "base_uri": "https://localhost:8080/",
          "height": 35
        },
        "id": "TKAK-qST-_AA",
        "outputId": "7843cd8a-0657-4f51-8e20-3ef66142d470"
      },
      "source": [
        "deque.removeLeft()"
      ],
      "execution_count": null,
      "outputs": [
        {
          "output_type": "execute_result",
          "data": {
            "application/vnd.google.colaboratory.intrinsic+json": {
              "type": "string"
            },
            "text/plain": [
              "'hello'"
            ]
          },
          "metadata": {},
          "execution_count": 139
        }
      ]
    },
    {
      "cell_type": "code",
      "metadata": {
        "colab": {
          "base_uri": "https://localhost:8080/"
        },
        "id": "ZfYDhjkH_ArE",
        "outputId": "788c80ad-e559-4d15-dc61-dc7c8dc323ae"
      },
      "source": [
        "deque.content()"
      ],
      "execution_count": null,
      "outputs": [
        {
          "output_type": "stream",
          "name": "stdout",
          "text": [
            "LEFT-- ['there'] --RIGHT\n"
          ]
        }
      ]
    },
    {
      "cell_type": "code",
      "metadata": {
        "colab": {
          "base_uri": "https://localhost:8080/",
          "height": 35
        },
        "id": "LBeS9b3D_Dj7",
        "outputId": "71c68b24-08b4-4817-c723-4760142d0d4c"
      },
      "source": [
        "deque.removeLeft()"
      ],
      "execution_count": null,
      "outputs": [
        {
          "output_type": "execute_result",
          "data": {
            "application/vnd.google.colaboratory.intrinsic+json": {
              "type": "string"
            },
            "text/plain": [
              "'there'"
            ]
          },
          "metadata": {},
          "execution_count": 141
        }
      ]
    },
    {
      "cell_type": "code",
      "metadata": {
        "colab": {
          "base_uri": "https://localhost:8080/"
        },
        "id": "calQKqUn_F-A",
        "outputId": "a5d72ae6-cc68-4e97-f886-cd5c97f6047c"
      },
      "source": [
        "deque.content()"
      ],
      "execution_count": null,
      "outputs": [
        {
          "output_type": "stream",
          "name": "stdout",
          "text": [
            "LEFT-- [] --RIGHT\n"
          ]
        }
      ]
    },
    {
      "cell_type": "code",
      "metadata": {
        "colab": {
          "base_uri": "https://localhost:8080/"
        },
        "id": "Ks9J3JRh_IH6",
        "outputId": "a0fa6157-5ed6-4113-914d-636f2088a328"
      },
      "source": [
        "deque.removeLeft()"
      ],
      "execution_count": null,
      "outputs": [
        {
          "output_type": "stream",
          "name": "stdout",
          "text": [
            "The Structure is empty, nothing to remove.\n"
          ]
        }
      ]
    },
    {
      "cell_type": "markdown",
      "metadata": {
        "id": "N_ovDm2u_QWd"
      },
      "source": [
        "**Interview Problem: Balanced Parentheses Check**"
      ]
    },
    {
      "cell_type": "code",
      "metadata": {
        "id": "LCXVKtMm_J4l"
      },
      "source": [
        "## This is solution for parentheses given is in a random order as long as the first string is an open bracket\n",
        "def my_balance_check(string1):\n",
        "\n",
        "  if len(string1) % 2 != 0:\n",
        "    return False\n",
        "  \n",
        "  structure = []\n",
        "  open = [\"(\", \"[\", \"{\"]    # the pairs must be on same indexing placement\n",
        "  close = [\")\", \"]\", \"}\"]   # as the index will be used to remove the item from structure\n",
        "\n",
        "  for bracket in string1:\n",
        "    if bracket in open:\n",
        "      structure.append(bracket)\n",
        "    else:\n",
        "      try:\n",
        "        structure.remove(open[close.index(bracket)])  # check the index of close bracket to apply on open bracket\n",
        "      except (KeyError, ValueError):\n",
        "        return False\n",
        "  \n",
        "  return structure == []"
      ],
      "execution_count": null,
      "outputs": []
    },
    {
      "cell_type": "code",
      "metadata": {
        "colab": {
          "base_uri": "https://localhost:8080/"
        },
        "id": "C4dqDX2mqzz_",
        "outputId": "0a940018-7ddb-43bc-8ade-303934db142d"
      },
      "source": [
        "my_balance_check(\"(\")"
      ],
      "execution_count": null,
      "outputs": [
        {
          "output_type": "execute_result",
          "data": {
            "text/plain": [
              "False"
            ]
          },
          "metadata": {},
          "execution_count": 81
        }
      ]
    },
    {
      "cell_type": "code",
      "metadata": {
        "colab": {
          "base_uri": "https://localhost:8080/"
        },
        "id": "18tbPgJ2z9Dd",
        "outputId": "33ba31f8-0272-4a1f-e64a-441c13a7a029"
      },
      "source": [
        "my_balance_check(\"((\")"
      ],
      "execution_count": null,
      "outputs": [
        {
          "output_type": "execute_result",
          "data": {
            "text/plain": [
              "False"
            ]
          },
          "metadata": {},
          "execution_count": 82
        }
      ]
    },
    {
      "cell_type": "code",
      "metadata": {
        "colab": {
          "base_uri": "https://localhost:8080/"
        },
        "id": "un1GeyNeq7jn",
        "outputId": "516107eb-3eb5-444d-bed4-ecbc359c5ddc"
      },
      "source": [
        "my_balance_check(\"()\")"
      ],
      "execution_count": null,
      "outputs": [
        {
          "output_type": "execute_result",
          "data": {
            "text/plain": [
              "True"
            ]
          },
          "metadata": {},
          "execution_count": 83
        }
      ]
    },
    {
      "cell_type": "code",
      "metadata": {
        "colab": {
          "base_uri": "https://localhost:8080/"
        },
        "id": "tan4qGCWtKBp",
        "outputId": "d8feb7b8-54be-417e-df7e-15a55e5fbcc1"
      },
      "source": [
        "my_balance_check(\"([){{}}]()\")"
      ],
      "execution_count": null,
      "outputs": [
        {
          "output_type": "execute_result",
          "data": {
            "text/plain": [
              "True"
            ]
          },
          "metadata": {},
          "execution_count": 84
        }
      ]
    },
    {
      "cell_type": "code",
      "metadata": {
        "colab": {
          "base_uri": "https://localhost:8080/"
        },
        "id": "qCCVFs5VvOTD",
        "outputId": "5bd6298e-69df-490f-c8ef-23199f2b281e"
      },
      "source": [
        "my_balance_check(\"([){{}}]()]\")"
      ],
      "execution_count": null,
      "outputs": [
        {
          "output_type": "execute_result",
          "data": {
            "text/plain": [
              "False"
            ]
          },
          "metadata": {},
          "execution_count": 85
        }
      ]
    },
    {
      "cell_type": "code",
      "metadata": {
        "colab": {
          "base_uri": "https://localhost:8080/"
        },
        "id": "t2vmdcbjvRuz",
        "outputId": "353f0b77-921b-4917-f34b-f98f368698ef"
      },
      "source": [
        "my_balance_check(\"([){{}}](}\")"
      ],
      "execution_count": null,
      "outputs": [
        {
          "output_type": "execute_result",
          "data": {
            "text/plain": [
              "False"
            ]
          },
          "metadata": {},
          "execution_count": 86
        }
      ]
    },
    {
      "cell_type": "code",
      "metadata": {
        "colab": {
          "base_uri": "https://localhost:8080/"
        },
        "id": "WMBMnlxGvTkd",
        "outputId": "c3ee57fb-f905-40cb-eaf1-0bc0c0d1c547"
      },
      "source": [
        "my_balance_check(\"((}}\")"
      ],
      "execution_count": null,
      "outputs": [
        {
          "output_type": "execute_result",
          "data": {
            "text/plain": [
              "False"
            ]
          },
          "metadata": {},
          "execution_count": 87
        }
      ]
    },
    {
      "cell_type": "code",
      "metadata": {
        "colab": {
          "base_uri": "https://localhost:8080/"
        },
        "id": "h6-7o1ykv1gm",
        "outputId": "f9d73ead-f411-4c00-cefc-d49322d8091b"
      },
      "source": [
        "my_balance_check(\"))))}}\")"
      ],
      "execution_count": null,
      "outputs": [
        {
          "output_type": "execute_result",
          "data": {
            "text/plain": [
              "False"
            ]
          },
          "metadata": {},
          "execution_count": 88
        }
      ]
    },
    {
      "cell_type": "code",
      "metadata": {
        "colab": {
          "base_uri": "https://localhost:8080/"
        },
        "id": "o0DzcWDLzdyB",
        "outputId": "11b1a8e5-bbe0-48d2-aa33-dddfedd49594"
      },
      "source": [
        "my_balance_check(\"()(((({{{[[))}}]]))}\")"
      ],
      "execution_count": null,
      "outputs": [
        {
          "output_type": "execute_result",
          "data": {
            "text/plain": [
              "True"
            ]
          },
          "metadata": {},
          "execution_count": 89
        }
      ]
    },
    {
      "cell_type": "code",
      "metadata": {
        "colab": {
          "base_uri": "https://localhost:8080/"
        },
        "id": "XbQgzZ_sDN1E",
        "outputId": "9a5a99d2-e04f-421c-bc51-c8e4f0c9d4e8"
      },
      "source": [
        "my_balance_check(\"()[]({)}\")"
      ],
      "execution_count": null,
      "outputs": [
        {
          "output_type": "execute_result",
          "data": {
            "text/plain": [
              "True"
            ]
          },
          "metadata": {},
          "execution_count": 90
        }
      ]
    },
    {
      "cell_type": "code",
      "metadata": {
        "colab": {
          "base_uri": "https://localhost:8080/"
        },
        "id": "pZAm2iJkDZgM",
        "outputId": "6663e10d-4872-4ee7-dd44-570f14688f9a"
      },
      "source": [
        "my_balance_check(\"}{\")"
      ],
      "execution_count": null,
      "outputs": [
        {
          "output_type": "execute_result",
          "data": {
            "text/plain": [
              "False"
            ]
          },
          "metadata": {},
          "execution_count": 91
        }
      ]
    },
    {
      "cell_type": "markdown",
      "metadata": {
        "id": "iETCHrDPCKg5"
      },
      "source": [
        "Tutorial Solution"
      ]
    },
    {
      "cell_type": "code",
      "metadata": {
        "id": "t6b0SM_GzkJM"
      },
      "source": [
        "## this solution is for the parentheses given is in order as they should\n",
        "\n",
        "def balance_check(string1):\n",
        "  \n",
        "  if len(string1) % 2 != 0 or len(string1) == 0:\n",
        "    return False\n",
        "  \n",
        "  open = [\"(\", \"[\", \"{\"]\n",
        "  pairs = [(\"(\", \")\"), (\"[\", \"]\"), (\"{\", \"}\")]\n",
        "\n",
        "  structure = []\n",
        "\n",
        "  for bracket in string1:\n",
        "    if bracket in open:\n",
        "      structure.append(bracket)\n",
        "    else:\n",
        "      if len(structure) == 0:\n",
        "        return False\n",
        "      \n",
        "      last_open = structure.pop()\n",
        "\n",
        "      if (last_open, bracket) not in pairs:\n",
        "        return False      \n",
        "  \n",
        "  return len(structure) == 0"
      ],
      "execution_count": null,
      "outputs": []
    },
    {
      "cell_type": "code",
      "metadata": {
        "colab": {
          "base_uri": "https://localhost:8080/"
        },
        "id": "rJk2whb19VoC",
        "outputId": "2a16edf3-55eb-49d5-dac0-e29313f92a1b"
      },
      "source": [
        "balance_check(\"(\")"
      ],
      "execution_count": null,
      "outputs": [
        {
          "output_type": "execute_result",
          "data": {
            "text/plain": [
              "False"
            ]
          },
          "metadata": {},
          "execution_count": 58
        }
      ]
    },
    {
      "cell_type": "code",
      "metadata": {
        "colab": {
          "base_uri": "https://localhost:8080/"
        },
        "id": "No72hGgo9ps8",
        "outputId": "7cb146fb-29e9-4f03-e382-1ad42f91b481"
      },
      "source": [
        "balance_check(\"()\")"
      ],
      "execution_count": null,
      "outputs": [
        {
          "output_type": "execute_result",
          "data": {
            "text/plain": [
              "True"
            ]
          },
          "metadata": {},
          "execution_count": 59
        }
      ]
    },
    {
      "cell_type": "code",
      "metadata": {
        "colab": {
          "base_uri": "https://localhost:8080/"
        },
        "id": "llWy6p_k92xy",
        "outputId": "64061c8b-c577-47c3-e613-c7725090d49e"
      },
      "source": [
        "balance_check(\"({([[]])})\")"
      ],
      "execution_count": null,
      "outputs": [
        {
          "output_type": "execute_result",
          "data": {
            "text/plain": [
              "True"
            ]
          },
          "metadata": {},
          "execution_count": 60
        }
      ]
    },
    {
      "cell_type": "code",
      "metadata": {
        "id": "Ju8NHFNyCnVA",
        "colab": {
          "base_uri": "https://localhost:8080/"
        },
        "outputId": "8cdbd34a-0eb7-4639-e765-20b6b17a2c5e"
      },
      "source": [
        "balance_check(\"(]\")"
      ],
      "execution_count": null,
      "outputs": [
        {
          "output_type": "execute_result",
          "data": {
            "text/plain": [
              "False"
            ]
          },
          "metadata": {},
          "execution_count": 61
        }
      ]
    },
    {
      "cell_type": "code",
      "metadata": {
        "colab": {
          "base_uri": "https://localhost:8080/"
        },
        "id": "Brm4Cn82C9Rb",
        "outputId": "0047cd24-6fc3-4566-c389-6b2679310672"
      },
      "source": [
        "balance_check(\"()[]({)}\")"
      ],
      "execution_count": null,
      "outputs": [
        {
          "output_type": "execute_result",
          "data": {
            "text/plain": [
              "False"
            ]
          },
          "metadata": {},
          "execution_count": 62
        }
      ]
    },
    {
      "cell_type": "code",
      "metadata": {
        "colab": {
          "base_uri": "https://localhost:8080/"
        },
        "id": "coTd-Yw3DE8q",
        "outputId": "c411a169-c4b5-4886-ace5-bc8593f635a3"
      },
      "source": [
        "balance_check(\"}{\")"
      ],
      "execution_count": null,
      "outputs": [
        {
          "output_type": "execute_result",
          "data": {
            "text/plain": [
              "False"
            ]
          },
          "metadata": {},
          "execution_count": 77
        }
      ]
    },
    {
      "cell_type": "code",
      "metadata": {
        "colab": {
          "base_uri": "https://localhost:8080/"
        },
        "id": "FTwvR9rcDpv9",
        "outputId": "06f34107-98ca-4a2c-cde1-c7727b838ab3"
      },
      "source": [
        "balance_check(\"{([[()]]})\")"
      ],
      "execution_count": null,
      "outputs": [
        {
          "output_type": "execute_result",
          "data": {
            "text/plain": [
              "False"
            ]
          },
          "metadata": {},
          "execution_count": 78
        }
      ]
    },
    {
      "cell_type": "code",
      "metadata": {
        "colab": {
          "base_uri": "https://localhost:8080/"
        },
        "id": "5MtScHn4D0DT",
        "outputId": "d762f44c-7110-4685-8bb8-bcea702d60f7"
      },
      "source": [
        "balance_check(\"{([[()]])}\")"
      ],
      "execution_count": null,
      "outputs": [
        {
          "output_type": "execute_result",
          "data": {
            "text/plain": [
              "True"
            ]
          },
          "metadata": {},
          "execution_count": 79
        }
      ]
    },
    {
      "cell_type": "markdown",
      "metadata": {
        "id": "m7a24b1VYoJg"
      },
      "source": [
        "**Queue Using Two Stacks**"
      ]
    },
    {
      "cell_type": "code",
      "metadata": {
        "id": "v7D8p6kqD3yN"
      },
      "source": [
        "stacks1 = []\n",
        "stacks2 = []"
      ],
      "execution_count": 5,
      "outputs": []
    },
    {
      "cell_type": "code",
      "metadata": {
        "id": "Y3CIXdhiY9NV"
      },
      "source": [
        "class QueueWithTwoStacks:\n",
        "\n",
        "  def __init__(self):\n",
        "    self.stacks1 = []\n",
        "    self.stacks2 = []\n",
        "  \n",
        "  def push(self, stack, item):\n",
        "    stack.append(item)\n",
        "  \n",
        "  def pop(self, stack):\n",
        "    return stack.pop()\n",
        "  \n",
        "  def enqueue(self, item):\n",
        "    # stacks1.append(item)\n",
        "    self.push(self.stacks1, item)\n",
        "  \n",
        "  def dequeue(self):\n",
        "    # for i in range(len(stacks1)):\n",
        "    #   stacks2.append(stacks1.pop())\n",
        "\n",
        "    # returned = stacks2.pop()\n",
        "\n",
        "    # for i in range(len(stacks2)):\n",
        "    #   stacks1.append(stacks2.pop())\n",
        "\n",
        "    for i in range(len(self.stacks1)):\n",
        "      self.push(self.stacks2, self.pop(self.stacks1))\n",
        "    \n",
        "    returned = self.pop(self.stacks2)\n",
        "\n",
        "    for i in range(len(self.stacks2)):\n",
        "      self.push(self.stacks1, self.pop(self.stacks2))\n",
        "    \n",
        "    return returned"
      ],
      "execution_count": 27,
      "outputs": []
    },
    {
      "cell_type": "code",
      "metadata": {
        "colab": {
          "base_uri": "https://localhost:8080/"
        },
        "id": "0qXI2iTqbdDZ",
        "outputId": "8dc0c98d-0447-4930-990c-e4d3e98fc765"
      },
      "source": [
        "my_queue = QueueWithTwoStacks()\n",
        "\n",
        "for i in range(5):\n",
        "  my_queue.enqueue(i)\n",
        "\n",
        "for i in range(5):\n",
        "  print(my_queue.dequeue())"
      ],
      "execution_count": 35,
      "outputs": [
        {
          "output_type": "stream",
          "name": "stdout",
          "text": [
            "0\n",
            "1\n",
            "2\n",
            "3\n",
            "4\n"
          ]
        }
      ]
    },
    {
      "cell_type": "code",
      "metadata": {
        "colab": {
          "base_uri": "https://localhost:8080/"
        },
        "id": "hAwny9cdjavL",
        "outputId": "f4559f78-2faa-4a66-b300-02090c3abeb6"
      },
      "source": [
        "my_queue = QueueWithTwoStacks()\n",
        "\n",
        "for i in range(9):\n",
        "  my_queue.enqueue(i)\n",
        "\n",
        "for i in range(7):\n",
        "  print(my_queue.dequeue())"
      ],
      "execution_count": 36,
      "outputs": [
        {
          "output_type": "stream",
          "name": "stdout",
          "text": [
            "0\n",
            "1\n",
            "2\n",
            "3\n",
            "4\n",
            "5\n",
            "6\n"
          ]
        }
      ]
    },
    {
      "cell_type": "markdown",
      "metadata": {
        "id": "kuV8XZ_CiMDp"
      },
      "source": [
        "**Tutorial Solution**"
      ]
    },
    {
      "cell_type": "code",
      "metadata": {
        "id": "CmYyEpG_dr2v"
      },
      "source": [
        "class Queue2Stacks:\n",
        "\n",
        "  def __init__(self):\n",
        "    self.instack = []\n",
        "    self.outstack = []\n",
        "  \n",
        "  def enqueue(self, element):\n",
        "    self.instack.append(element)\n",
        "  \n",
        "  def dequeue(self):\n",
        "    if not self.outstack:  # if self.outstack not empty the code below won't be executed\n",
        "      while self.instack:\n",
        "        self.outstack.append(self.instack.pop())\n",
        "    \n",
        "    return self.outstack.pop()"
      ],
      "execution_count": 31,
      "outputs": []
    },
    {
      "cell_type": "code",
      "metadata": {
        "colab": {
          "base_uri": "https://localhost:8080/"
        },
        "id": "MMo8xUSNkWS3",
        "outputId": "dfb28387-615a-4ef2-9ead-05178f3eb2ae"
      },
      "source": [
        "queue = QueueWithTwoStacks()\n",
        "\n",
        "for i in range(5):\n",
        "  queue.enqueue(i)\n",
        "\n",
        "for i in range(5):\n",
        "  print(queue.dequeue())"
      ],
      "execution_count": 37,
      "outputs": [
        {
          "output_type": "stream",
          "name": "stdout",
          "text": [
            "0\n",
            "1\n",
            "2\n",
            "3\n",
            "4\n"
          ]
        }
      ]
    },
    {
      "cell_type": "code",
      "metadata": {
        "colab": {
          "base_uri": "https://localhost:8080/"
        },
        "id": "-qZz6aZKkYSh",
        "outputId": "620999b2-efac-4abc-e218-cce3c92d4129"
      },
      "source": [
        "queue = QueueWithTwoStacks()\n",
        "\n",
        "for i in range(9):\n",
        "  queue.enqueue(i)\n",
        "\n",
        "for i in range(7):\n",
        "  print(queue.dequeue())"
      ],
      "execution_count": 38,
      "outputs": [
        {
          "output_type": "stream",
          "name": "stdout",
          "text": [
            "0\n",
            "1\n",
            "2\n",
            "3\n",
            "4\n",
            "5\n",
            "6\n"
          ]
        }
      ]
    },
    {
      "cell_type": "code",
      "metadata": {
        "colab": {
          "base_uri": "https://localhost:8080/"
        },
        "id": "XEjvGDuKkaYj",
        "outputId": "92dc8b30-064d-41f6-ed0b-9676b896ecbd"
      },
      "source": [
        "%timeit my_queue"
      ],
      "execution_count": 41,
      "outputs": [
        {
          "output_type": "stream",
          "name": "stdout",
          "text": [
            "10000000 loops, best of 5: 35.8 ns per loop\n"
          ]
        }
      ]
    },
    {
      "cell_type": "code",
      "metadata": {
        "colab": {
          "base_uri": "https://localhost:8080/"
        },
        "id": "_OoylWNMlTP-",
        "outputId": "7d8ddc41-a64b-4adb-f457-118799b5eddf"
      },
      "source": [
        "%timeit queue"
      ],
      "execution_count": 42,
      "outputs": [
        {
          "output_type": "stream",
          "name": "stdout",
          "text": [
            "10000000 loops, best of 5: 34.9 ns per loop\n"
          ]
        }
      ]
    },
    {
      "cell_type": "code",
      "metadata": {
        "id": "LhXOr06MlWO5"
      },
      "source": [
        ""
      ],
      "execution_count": null,
      "outputs": []
    }
  ]
}