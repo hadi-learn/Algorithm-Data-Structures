{
  "nbformat": 4,
  "nbformat_minor": 0,
  "metadata": {
    "colab": {
      "name": "Linked List.ipynb",
      "provenance": [],
      "collapsed_sections": []
    },
    "kernelspec": {
      "name": "python3",
      "display_name": "Python 3"
    },
    "language_info": {
      "name": "python"
    }
  },
  "cells": [
    {
      "cell_type": "markdown",
      "metadata": {
        "id": "fWXk1Ww43aMZ"
      },
      "source": [
        "**Singly Linked List**"
      ]
    },
    {
      "cell_type": "code",
      "metadata": {
        "id": "veSGQk5v3Ick"
      },
      "source": [
        "class Node:\n",
        "\n",
        "  def __init__(self, value):\n",
        "    self.value = value\n",
        "    self.next_node = None"
      ],
      "execution_count": null,
      "outputs": []
    },
    {
      "cell_type": "code",
      "metadata": {
        "id": "wUON24Hu3sMi"
      },
      "source": [
        "a = Node(1)\n",
        "b = Node(2)\n",
        "c = Node(3)"
      ],
      "execution_count": null,
      "outputs": []
    },
    {
      "cell_type": "code",
      "metadata": {
        "id": "GEYHQHM23-H1"
      },
      "source": [
        "a.next_node = b"
      ],
      "execution_count": null,
      "outputs": []
    },
    {
      "cell_type": "code",
      "metadata": {
        "id": "DNRyo9lJ4B_x"
      },
      "source": [
        "b.next_node = c"
      ],
      "execution_count": null,
      "outputs": []
    },
    {
      "cell_type": "code",
      "metadata": {
        "colab": {
          "base_uri": "https://localhost:8080/"
        },
        "id": "9K_XZvX74EWQ",
        "outputId": "9e463ba9-8fe3-44ec-e31f-b705f18f9e40"
      },
      "source": [
        "a.value"
      ],
      "execution_count": null,
      "outputs": [
        {
          "output_type": "execute_result",
          "data": {
            "text/plain": [
              "1"
            ]
          },
          "metadata": {},
          "execution_count": 5
        }
      ]
    },
    {
      "cell_type": "code",
      "metadata": {
        "colab": {
          "base_uri": "https://localhost:8080/"
        },
        "id": "KGYskiSt4Fnx",
        "outputId": "b4591be2-a191-4d0b-dba3-af1dcc8a9d51"
      },
      "source": [
        "b.value"
      ],
      "execution_count": null,
      "outputs": [
        {
          "output_type": "execute_result",
          "data": {
            "text/plain": [
              "2"
            ]
          },
          "metadata": {},
          "execution_count": 6
        }
      ]
    },
    {
      "cell_type": "code",
      "metadata": {
        "colab": {
          "base_uri": "https://localhost:8080/"
        },
        "id": "PntsObHq4GqM",
        "outputId": "6a3295ac-9832-4109-a568-c38c5d595d8f"
      },
      "source": [
        "a.next_node"
      ],
      "execution_count": null,
      "outputs": [
        {
          "output_type": "execute_result",
          "data": {
            "text/plain": [
              "<__main__.Node at 0x7f5d9ae8ab90>"
            ]
          },
          "metadata": {},
          "execution_count": 7
        }
      ]
    },
    {
      "cell_type": "code",
      "metadata": {
        "colab": {
          "base_uri": "https://localhost:8080/"
        },
        "id": "Ln-r_Olk4KmP",
        "outputId": "7052e193-dbe1-45b4-f954-34945b60744e"
      },
      "source": [
        "a.next_node.value"
      ],
      "execution_count": null,
      "outputs": [
        {
          "output_type": "execute_result",
          "data": {
            "text/plain": [
              "2"
            ]
          },
          "metadata": {},
          "execution_count": 8
        }
      ]
    },
    {
      "cell_type": "markdown",
      "metadata": {
        "id": "Tp8jXC-N4mEU"
      },
      "source": [
        "**Doubly Linked List**"
      ]
    },
    {
      "cell_type": "code",
      "metadata": {
        "id": "qNU-mwnK4Mw7"
      },
      "source": [
        "class NodeDoubly:\n",
        "\n",
        "  def __init__(self, value):\n",
        "    self.value = value\n",
        "    self.prev_node = None\n",
        "    self.next_node = None"
      ],
      "execution_count": null,
      "outputs": []
    },
    {
      "cell_type": "code",
      "metadata": {
        "id": "W6x5m6SK6CbH"
      },
      "source": [
        "x = NodeDoubly(1)\n",
        "y = NodeDoubly(2)\n",
        "z = NodeDoubly(3)"
      ],
      "execution_count": null,
      "outputs": []
    },
    {
      "cell_type": "code",
      "metadata": {
        "id": "IjNZNLsp6Jpi"
      },
      "source": [
        "x.next_node = y"
      ],
      "execution_count": null,
      "outputs": []
    },
    {
      "cell_type": "code",
      "metadata": {
        "id": "WLAE8Z0n6O4l"
      },
      "source": [
        "y.prev_node = x"
      ],
      "execution_count": null,
      "outputs": []
    },
    {
      "cell_type": "code",
      "metadata": {
        "id": "7WRAPpiG6QaE"
      },
      "source": [
        "y.next_node = z"
      ],
      "execution_count": null,
      "outputs": []
    },
    {
      "cell_type": "code",
      "metadata": {
        "id": "TS0rwU0D6SYD"
      },
      "source": [
        "z.prev_node = y"
      ],
      "execution_count": null,
      "outputs": []
    },
    {
      "cell_type": "code",
      "metadata": {
        "colab": {
          "base_uri": "https://localhost:8080/"
        },
        "id": "2-1BQ2yf6UOV",
        "outputId": "12313b5a-0c55-4448-8ad9-e4805cab1c1c"
      },
      "source": [
        "x.value"
      ],
      "execution_count": null,
      "outputs": [
        {
          "output_type": "execute_result",
          "data": {
            "text/plain": [
              "1"
            ]
          },
          "metadata": {},
          "execution_count": 15
        }
      ]
    },
    {
      "cell_type": "code",
      "metadata": {
        "colab": {
          "base_uri": "https://localhost:8080/"
        },
        "id": "J3QYNYdi6yqt",
        "outputId": "268002c4-8c20-4a8e-829f-5750e991578b"
      },
      "source": [
        "y.value"
      ],
      "execution_count": null,
      "outputs": [
        {
          "output_type": "execute_result",
          "data": {
            "text/plain": [
              "2"
            ]
          },
          "metadata": {},
          "execution_count": 16
        }
      ]
    },
    {
      "cell_type": "code",
      "metadata": {
        "colab": {
          "base_uri": "https://localhost:8080/"
        },
        "id": "twIMtY0660HQ",
        "outputId": "f9056f23-15c2-4432-b48a-3127f932a1d3"
      },
      "source": [
        "y.next_node.value"
      ],
      "execution_count": null,
      "outputs": [
        {
          "output_type": "execute_result",
          "data": {
            "text/plain": [
              "3"
            ]
          },
          "metadata": {},
          "execution_count": 17
        }
      ]
    },
    {
      "cell_type": "code",
      "metadata": {
        "colab": {
          "base_uri": "https://localhost:8080/"
        },
        "id": "Jgn3CGcS62Yy",
        "outputId": "bb9face1-ab08-4fdf-b8aa-bfe6ff9fdd9b"
      },
      "source": [
        "y.prev_node.value"
      ],
      "execution_count": null,
      "outputs": [
        {
          "output_type": "execute_result",
          "data": {
            "text/plain": [
              "1"
            ]
          },
          "metadata": {},
          "execution_count": 18
        }
      ]
    },
    {
      "cell_type": "markdown",
      "metadata": {
        "id": "NPtMY2v668dE"
      },
      "source": [
        "**Interview Problem**\n",
        "**Singly Linked List Cycle Check**"
      ]
    },
    {
      "cell_type": "code",
      "metadata": {
        "id": "OzzrPqVE8DI-"
      },
      "source": [
        "class NodeCycle:\n",
        "\n",
        "  def __init__(self, value):\n",
        "    self.value = value\n",
        "    self.next_node = None"
      ],
      "execution_count": null,
      "outputs": []
    },
    {
      "cell_type": "code",
      "metadata": {
        "id": "ArgTP6NQ8RH3"
      },
      "source": [
        "a = NodeCycle(1)\n",
        "b = NodeCycle(2)\n",
        "c = NodeCycle(3)\n",
        "d = NodeCycle(4)\n",
        "x = NodeCycle(1)\n",
        "y = NodeCycle(2)\n",
        "z = NodeCycle(3)\n",
        "k = NodeCycle(1)\n",
        "l = NodeCycle(2)\n",
        "m = NodeCycle(3)\n",
        "n = NodeCycle(4)\n",
        "o = NodeCycle(5)"
      ],
      "execution_count": null,
      "outputs": []
    },
    {
      "cell_type": "code",
      "metadata": {
        "id": "AzBvlaQk8axa"
      },
      "source": [
        "a.next_node = b\n",
        "b.next_node = c\n",
        "c.next_node = d\n",
        "d.next_node = a # cycle here pointing to a (a as origin if a is the node to check)\n",
        "x.next_node = y\n",
        "y.next_node = z # no cycle here\n",
        "k.next_node = l\n",
        "l.next_node = m\n",
        "m.next_node = n\n",
        "n.next_node = o\n",
        "o.next_node = m # cycle here but pointing to m (not to origin k)"
      ],
      "execution_count": null,
      "outputs": []
    },
    {
      "cell_type": "code",
      "metadata": {
        "id": "WOPgQhqQ639i"
      },
      "source": [
        "## this solution could fall to infinite loop if the origin node is not part of the loop\n",
        "def my_cycle_check(node):\n",
        "  origin_node = node\n",
        "  while node.next_node:\n",
        "    if node.next_node == origin_node:\n",
        "      return True\n",
        "    node = node.next_node\n",
        "  return False"
      ],
      "execution_count": null,
      "outputs": []
    },
    {
      "cell_type": "code",
      "metadata": {
        "colab": {
          "base_uri": "https://localhost:8080/"
        },
        "id": "Mu6-iPTf9dNg",
        "outputId": "c205f5ac-0aa1-4fac-c8a2-dc29072cc1af"
      },
      "source": [
        "my_cycle_check(a)"
      ],
      "execution_count": null,
      "outputs": [
        {
          "output_type": "execute_result",
          "data": {
            "text/plain": [
              "True"
            ]
          },
          "metadata": {},
          "execution_count": 23
        }
      ]
    },
    {
      "cell_type": "code",
      "metadata": {
        "colab": {
          "base_uri": "https://localhost:8080/"
        },
        "id": "Wz1LtKM592H-",
        "outputId": "db9a8ab8-abe1-4336-c881-d2d6590ab6f3"
      },
      "source": [
        "my_cycle_check(b)"
      ],
      "execution_count": null,
      "outputs": [
        {
          "output_type": "execute_result",
          "data": {
            "text/plain": [
              "True"
            ]
          },
          "metadata": {},
          "execution_count": 24
        }
      ]
    },
    {
      "cell_type": "code",
      "metadata": {
        "colab": {
          "base_uri": "https://localhost:8080/"
        },
        "id": "ugW1Sv-S95Nh",
        "outputId": "0bd8c2f3-4312-4c15-9453-80d28271b513"
      },
      "source": [
        "my_cycle_check(c)"
      ],
      "execution_count": null,
      "outputs": [
        {
          "output_type": "execute_result",
          "data": {
            "text/plain": [
              "True"
            ]
          },
          "metadata": {},
          "execution_count": 25
        }
      ]
    },
    {
      "cell_type": "code",
      "metadata": {
        "colab": {
          "base_uri": "https://localhost:8080/"
        },
        "id": "lAeRpRca96qC",
        "outputId": "bb98e24c-6f50-433a-f86f-e7e6890b2dee"
      },
      "source": [
        "my_cycle_check(d)"
      ],
      "execution_count": null,
      "outputs": [
        {
          "output_type": "execute_result",
          "data": {
            "text/plain": [
              "True"
            ]
          },
          "metadata": {},
          "execution_count": 26
        }
      ]
    },
    {
      "cell_type": "code",
      "metadata": {
        "colab": {
          "base_uri": "https://localhost:8080/"
        },
        "id": "x_qVKqWW98Vj",
        "outputId": "ffe03524-558a-48af-e288-e44cb7964545"
      },
      "source": [
        "my_cycle_check(x)"
      ],
      "execution_count": null,
      "outputs": [
        {
          "output_type": "execute_result",
          "data": {
            "text/plain": [
              "False"
            ]
          },
          "metadata": {},
          "execution_count": 27
        }
      ]
    },
    {
      "cell_type": "code",
      "metadata": {
        "colab": {
          "base_uri": "https://localhost:8080/"
        },
        "id": "B4HjN-8d9_Hv",
        "outputId": "d76c6d89-d7b6-41f8-fe04-4e51ab3b61cd"
      },
      "source": [
        "my_cycle_check(y)"
      ],
      "execution_count": null,
      "outputs": [
        {
          "output_type": "execute_result",
          "data": {
            "text/plain": [
              "False"
            ]
          },
          "metadata": {},
          "execution_count": 28
        }
      ]
    },
    {
      "cell_type": "code",
      "metadata": {
        "colab": {
          "base_uri": "https://localhost:8080/"
        },
        "id": "Pw7HxXOh-Avi",
        "outputId": "241963a6-a3d0-4a4e-e49f-d524133aa577"
      },
      "source": [
        "my_cycle_check(z)"
      ],
      "execution_count": null,
      "outputs": [
        {
          "output_type": "execute_result",
          "data": {
            "text/plain": [
              "False"
            ]
          },
          "metadata": {},
          "execution_count": 29
        }
      ]
    },
    {
      "cell_type": "code",
      "metadata": {
        "colab": {
          "base_uri": "https://localhost:8080/",
          "height": 282
        },
        "id": "12KXIrPZA5SP",
        "outputId": "c53b3935-579c-4b14-b8ab-c95d8fe9ef49"
      },
      "source": [
        "my_cycle_check(k) # this check will result in infinite loop"
      ],
      "execution_count": null,
      "outputs": [
        {
          "output_type": "error",
          "ename": "KeyboardInterrupt",
          "evalue": "ignored",
          "traceback": [
            "\u001b[0;31m---------------------------------------------------------------------------\u001b[0m",
            "\u001b[0;31mKeyboardInterrupt\u001b[0m                         Traceback (most recent call last)",
            "\u001b[0;32m<ipython-input-52-a0c1fb268be6>\u001b[0m in \u001b[0;36m<module>\u001b[0;34m()\u001b[0m\n\u001b[0;32m----> 1\u001b[0;31m \u001b[0mmy_cycle_check\u001b[0m\u001b[0;34m(\u001b[0m\u001b[0mk\u001b[0m\u001b[0;34m)\u001b[0m \u001b[0;31m# this check will result in infinite loop\u001b[0m\u001b[0;34m\u001b[0m\u001b[0;34m\u001b[0m\u001b[0m\n\u001b[0m",
            "\u001b[0;32m<ipython-input-43-39fb3ccd8b7e>\u001b[0m in \u001b[0;36mmy_cycle_check\u001b[0;34m(node)\u001b[0m\n\u001b[1;32m      1\u001b[0m \u001b[0;32mdef\u001b[0m \u001b[0mmy_cycle_check\u001b[0m\u001b[0;34m(\u001b[0m\u001b[0mnode\u001b[0m\u001b[0;34m)\u001b[0m\u001b[0;34m:\u001b[0m\u001b[0;34m\u001b[0m\u001b[0;34m\u001b[0m\u001b[0m\n\u001b[1;32m      2\u001b[0m   \u001b[0mcheck\u001b[0m \u001b[0;34m=\u001b[0m \u001b[0mnode\u001b[0m\u001b[0;34m\u001b[0m\u001b[0;34m\u001b[0m\u001b[0m\n\u001b[0;32m----> 3\u001b[0;31m   \u001b[0;32mwhile\u001b[0m \u001b[0mnode\u001b[0m\u001b[0;34m.\u001b[0m\u001b[0mnext_node\u001b[0m\u001b[0;34m:\u001b[0m\u001b[0;34m\u001b[0m\u001b[0;34m\u001b[0m\u001b[0m\n\u001b[0m\u001b[1;32m      4\u001b[0m     \u001b[0;32mif\u001b[0m \u001b[0mnode\u001b[0m\u001b[0;34m.\u001b[0m\u001b[0mnext_node\u001b[0m \u001b[0;34m==\u001b[0m \u001b[0mcheck\u001b[0m\u001b[0;34m:\u001b[0m\u001b[0;34m\u001b[0m\u001b[0;34m\u001b[0m\u001b[0m\n\u001b[1;32m      5\u001b[0m       \u001b[0;32mreturn\u001b[0m \u001b[0;32mTrue\u001b[0m\u001b[0;34m\u001b[0m\u001b[0;34m\u001b[0m\u001b[0m\n",
            "\u001b[0;31mKeyboardInterrupt\u001b[0m: "
          ]
        }
      ]
    },
    {
      "cell_type": "code",
      "metadata": {
        "colab": {
          "base_uri": "https://localhost:8080/",
          "height": 282
        },
        "id": "HXdERoWfBMLF",
        "outputId": "20ad8d66-6420-490d-a90f-c27fca9dca8e"
      },
      "source": [
        "my_cycle_check(l) # this check will result in infinite loop"
      ],
      "execution_count": null,
      "outputs": [
        {
          "output_type": "error",
          "ename": "KeyboardInterrupt",
          "evalue": "ignored",
          "traceback": [
            "\u001b[0;31m---------------------------------------------------------------------------\u001b[0m",
            "\u001b[0;31mKeyboardInterrupt\u001b[0m                         Traceback (most recent call last)",
            "\u001b[0;32m<ipython-input-53-dc95d8281353>\u001b[0m in \u001b[0;36m<module>\u001b[0;34m()\u001b[0m\n\u001b[0;32m----> 1\u001b[0;31m \u001b[0mmy_cycle_check\u001b[0m\u001b[0;34m(\u001b[0m\u001b[0ml\u001b[0m\u001b[0;34m)\u001b[0m \u001b[0;31m# this check will result in infinite loop\u001b[0m\u001b[0;34m\u001b[0m\u001b[0;34m\u001b[0m\u001b[0m\n\u001b[0m",
            "\u001b[0;32m<ipython-input-43-39fb3ccd8b7e>\u001b[0m in \u001b[0;36mmy_cycle_check\u001b[0;34m(node)\u001b[0m\n\u001b[1;32m      2\u001b[0m   \u001b[0mcheck\u001b[0m \u001b[0;34m=\u001b[0m \u001b[0mnode\u001b[0m\u001b[0;34m\u001b[0m\u001b[0;34m\u001b[0m\u001b[0m\n\u001b[1;32m      3\u001b[0m   \u001b[0;32mwhile\u001b[0m \u001b[0mnode\u001b[0m\u001b[0;34m.\u001b[0m\u001b[0mnext_node\u001b[0m\u001b[0;34m:\u001b[0m\u001b[0;34m\u001b[0m\u001b[0;34m\u001b[0m\u001b[0m\n\u001b[0;32m----> 4\u001b[0;31m     \u001b[0;32mif\u001b[0m \u001b[0mnode\u001b[0m\u001b[0;34m.\u001b[0m\u001b[0mnext_node\u001b[0m \u001b[0;34m==\u001b[0m \u001b[0mcheck\u001b[0m\u001b[0;34m:\u001b[0m\u001b[0;34m\u001b[0m\u001b[0;34m\u001b[0m\u001b[0m\n\u001b[0m\u001b[1;32m      5\u001b[0m       \u001b[0;32mreturn\u001b[0m \u001b[0;32mTrue\u001b[0m\u001b[0;34m\u001b[0m\u001b[0;34m\u001b[0m\u001b[0m\n\u001b[1;32m      6\u001b[0m     \u001b[0mnode\u001b[0m \u001b[0;34m=\u001b[0m \u001b[0mnode\u001b[0m\u001b[0;34m.\u001b[0m\u001b[0mnext_node\u001b[0m\u001b[0;34m\u001b[0m\u001b[0;34m\u001b[0m\u001b[0m\n",
            "\u001b[0;31mKeyboardInterrupt\u001b[0m: "
          ]
        }
      ]
    },
    {
      "cell_type": "code",
      "metadata": {
        "colab": {
          "base_uri": "https://localhost:8080/"
        },
        "id": "O-wtkKmqBP5C",
        "outputId": "1849b864-8570-47b2-ed24-302c61cd137e"
      },
      "source": [
        "my_cycle_check(m)"
      ],
      "execution_count": null,
      "outputs": [
        {
          "output_type": "execute_result",
          "data": {
            "text/plain": [
              "True"
            ]
          },
          "metadata": {},
          "execution_count": 30
        }
      ]
    },
    {
      "cell_type": "code",
      "metadata": {
        "colab": {
          "base_uri": "https://localhost:8080/"
        },
        "id": "LbAvb-hNBTjY",
        "outputId": "f7d92e08-b7da-44bb-df05-2956139be913"
      },
      "source": [
        "my_cycle_check(n)"
      ],
      "execution_count": null,
      "outputs": [
        {
          "output_type": "execute_result",
          "data": {
            "text/plain": [
              "True"
            ]
          },
          "metadata": {},
          "execution_count": 31
        }
      ]
    },
    {
      "cell_type": "code",
      "metadata": {
        "colab": {
          "base_uri": "https://localhost:8080/"
        },
        "id": "UV56yVqeCq97",
        "outputId": "5a1d9a9b-b2e6-4358-b79e-4a32d2b92edc"
      },
      "source": [
        "my_cycle_check(o)"
      ],
      "execution_count": null,
      "outputs": [
        {
          "output_type": "execute_result",
          "data": {
            "text/plain": [
              "True"
            ]
          },
          "metadata": {},
          "execution_count": 32
        }
      ]
    },
    {
      "cell_type": "markdown",
      "metadata": {
        "id": "84R3YibvCtYQ"
      },
      "source": [
        "Tutorial Solution - did a little modification so that non cycle node not returning error when the second last node being checked"
      ]
    },
    {
      "cell_type": "code",
      "metadata": {
        "id": "hkZ33HE4CsOL"
      },
      "source": [
        "def cycle_check(node):\n",
        "\n",
        "  marker1 = node\n",
        "  marker2 = node\n",
        "\n",
        "  while marker1 != None and marker2.next_node != None:\n",
        "\n",
        "    if marker2.next_node.next_node == None:  # added this 2 lines to avoid error\n",
        "      return False\n",
        "\n",
        "    marker1 = marker1.next_node\n",
        "    marker2 = marker2.next_node.next_node\n",
        "\n",
        "    if marker2 == marker1:\n",
        "      return True\n",
        "  \n",
        "  return False"
      ],
      "execution_count": null,
      "outputs": []
    },
    {
      "cell_type": "code",
      "metadata": {
        "colab": {
          "base_uri": "https://localhost:8080/"
        },
        "id": "q3lpcQ-lEkHA",
        "outputId": "52931540-635d-409d-f773-9a97aa25ad7a"
      },
      "source": [
        "cycle_check(a)"
      ],
      "execution_count": null,
      "outputs": [
        {
          "output_type": "execute_result",
          "data": {
            "text/plain": [
              "True"
            ]
          },
          "metadata": {},
          "execution_count": 34
        }
      ]
    },
    {
      "cell_type": "code",
      "metadata": {
        "colab": {
          "base_uri": "https://localhost:8080/"
        },
        "id": "D8LDmE9qEllL",
        "outputId": "d7680c40-5c4f-4564-a0ec-a47a1dde2b8a"
      },
      "source": [
        "cycle_check(b)"
      ],
      "execution_count": null,
      "outputs": [
        {
          "output_type": "execute_result",
          "data": {
            "text/plain": [
              "True"
            ]
          },
          "metadata": {},
          "execution_count": 35
        }
      ]
    },
    {
      "cell_type": "code",
      "metadata": {
        "colab": {
          "base_uri": "https://localhost:8080/"
        },
        "id": "UHrGzQncEosP",
        "outputId": "82905539-8029-431e-a30f-d57a7b861b87"
      },
      "source": [
        "cycle_check(c)"
      ],
      "execution_count": null,
      "outputs": [
        {
          "output_type": "execute_result",
          "data": {
            "text/plain": [
              "True"
            ]
          },
          "metadata": {},
          "execution_count": 36
        }
      ]
    },
    {
      "cell_type": "code",
      "metadata": {
        "colab": {
          "base_uri": "https://localhost:8080/"
        },
        "id": "ia1xyJK1Eo4e",
        "outputId": "fea341df-fee4-4192-b5a4-5fa2aee0eba6"
      },
      "source": [
        "cycle_check(d)"
      ],
      "execution_count": null,
      "outputs": [
        {
          "output_type": "execute_result",
          "data": {
            "text/plain": [
              "True"
            ]
          },
          "metadata": {},
          "execution_count": 37
        }
      ]
    },
    {
      "cell_type": "code",
      "metadata": {
        "colab": {
          "base_uri": "https://localhost:8080/"
        },
        "id": "oBSV_ioIEpaG",
        "outputId": "4b1c951b-b28a-4f33-8d58-440f6b124a40"
      },
      "source": [
        "cycle_check(x)"
      ],
      "execution_count": null,
      "outputs": [
        {
          "output_type": "execute_result",
          "data": {
            "text/plain": [
              "False"
            ]
          },
          "metadata": {},
          "execution_count": 38
        }
      ]
    },
    {
      "cell_type": "code",
      "metadata": {
        "colab": {
          "base_uri": "https://localhost:8080/"
        },
        "id": "proK4tgAEpgq",
        "outputId": "0b35db7a-f787-4535-d4f2-05b8c9c46ac8"
      },
      "source": [
        "cycle_check(y)"
      ],
      "execution_count": null,
      "outputs": [
        {
          "output_type": "execute_result",
          "data": {
            "text/plain": [
              "False"
            ]
          },
          "metadata": {},
          "execution_count": 39
        }
      ]
    },
    {
      "cell_type": "code",
      "metadata": {
        "colab": {
          "base_uri": "https://localhost:8080/"
        },
        "id": "YB5HAgkpEpnR",
        "outputId": "bd8340e0-fad5-48d6-f808-10ac4134d7e7"
      },
      "source": [
        "cycle_check(z)"
      ],
      "execution_count": null,
      "outputs": [
        {
          "output_type": "execute_result",
          "data": {
            "text/plain": [
              "False"
            ]
          },
          "metadata": {},
          "execution_count": 40
        }
      ]
    },
    {
      "cell_type": "code",
      "metadata": {
        "colab": {
          "base_uri": "https://localhost:8080/"
        },
        "id": "jj38WWDoEpzn",
        "outputId": "1e5d8d7b-6fae-41a9-cfd8-fb2fd2c28fd6"
      },
      "source": [
        "cycle_check(k)"
      ],
      "execution_count": null,
      "outputs": [
        {
          "output_type": "execute_result",
          "data": {
            "text/plain": [
              "True"
            ]
          },
          "metadata": {},
          "execution_count": 41
        }
      ]
    },
    {
      "cell_type": "code",
      "metadata": {
        "colab": {
          "base_uri": "https://localhost:8080/"
        },
        "id": "jyP6NWyUEp_9",
        "outputId": "66f91ea2-5c15-4d92-827f-5916cd5305c2"
      },
      "source": [
        "cycle_check(l)"
      ],
      "execution_count": null,
      "outputs": [
        {
          "output_type": "execute_result",
          "data": {
            "text/plain": [
              "True"
            ]
          },
          "metadata": {},
          "execution_count": 42
        }
      ]
    },
    {
      "cell_type": "code",
      "metadata": {
        "colab": {
          "base_uri": "https://localhost:8080/"
        },
        "id": "Pwuz4-cEEqIx",
        "outputId": "6d7f0f55-552c-4b1d-9d99-79d9f9508204"
      },
      "source": [
        "cycle_check(m)"
      ],
      "execution_count": null,
      "outputs": [
        {
          "output_type": "execute_result",
          "data": {
            "text/plain": [
              "True"
            ]
          },
          "metadata": {},
          "execution_count": 43
        }
      ]
    },
    {
      "cell_type": "code",
      "metadata": {
        "colab": {
          "base_uri": "https://localhost:8080/"
        },
        "id": "U03g85waEqQT",
        "outputId": "84746ddc-f8ff-4a2c-90f8-5ee4df9140d3"
      },
      "source": [
        "cycle_check(n)"
      ],
      "execution_count": null,
      "outputs": [
        {
          "output_type": "execute_result",
          "data": {
            "text/plain": [
              "True"
            ]
          },
          "metadata": {},
          "execution_count": 44
        }
      ]
    },
    {
      "cell_type": "code",
      "metadata": {
        "colab": {
          "base_uri": "https://localhost:8080/"
        },
        "id": "6fv1jIi7EqV0",
        "outputId": "c7e227f8-ffd9-497e-f2f4-20698a1a874f"
      },
      "source": [
        "cycle_check(o)"
      ],
      "execution_count": null,
      "outputs": [
        {
          "output_type": "execute_result",
          "data": {
            "text/plain": [
              "True"
            ]
          },
          "metadata": {},
          "execution_count": 45
        }
      ]
    },
    {
      "cell_type": "markdown",
      "metadata": {
        "id": "3ZGQEOZQHTKI"
      },
      "source": [
        "Solution from QnA -- did a little modification so the element to add to the set is the node itself instead of the node's value"
      ]
    },
    {
      "cell_type": "code",
      "metadata": {
        "id": "_vLgw_pQF3Fb"
      },
      "source": [
        "def qna_cycle_check(node):\n",
        "    # seenValues = set()  # this is the original qna solution\n",
        "    seenNodes = set()  # my modification\n",
        "   \n",
        "    nextNode = node.next_node\n",
        "    \n",
        "    while nextNode != None:\n",
        "        currentNode = nextNode\n",
        "        if currentNode not in seenNodes:\n",
        "            seenNodes.add(currentNode)\n",
        "        else:\n",
        "            return True\n",
        "        \n",
        "        nextNode = nextNode.next_node\n",
        "    return False"
      ],
      "execution_count": null,
      "outputs": []
    },
    {
      "cell_type": "code",
      "metadata": {
        "colab": {
          "base_uri": "https://localhost:8080/"
        },
        "id": "Omy1KngQHW4u",
        "outputId": "6c2abc6b-66d2-4430-f5b7-6c0bb25dc87e"
      },
      "source": [
        "qna_cycle_check(a)"
      ],
      "execution_count": null,
      "outputs": [
        {
          "output_type": "execute_result",
          "data": {
            "text/plain": [
              "True"
            ]
          },
          "metadata": {},
          "execution_count": 47
        }
      ]
    },
    {
      "cell_type": "code",
      "metadata": {
        "colab": {
          "base_uri": "https://localhost:8080/"
        },
        "id": "Yz-cshXuHkyG",
        "outputId": "52eac775-9acf-44c3-d2a4-c9ef4dc5c56e"
      },
      "source": [
        "qna_cycle_check(b)"
      ],
      "execution_count": null,
      "outputs": [
        {
          "output_type": "execute_result",
          "data": {
            "text/plain": [
              "True"
            ]
          },
          "metadata": {},
          "execution_count": 48
        }
      ]
    },
    {
      "cell_type": "code",
      "metadata": {
        "colab": {
          "base_uri": "https://localhost:8080/"
        },
        "id": "EmbtBKnQHk_g",
        "outputId": "debf7b32-62d6-4a6a-d5f3-0afd6d5959cd"
      },
      "source": [
        "qna_cycle_check(x)"
      ],
      "execution_count": null,
      "outputs": [
        {
          "output_type": "execute_result",
          "data": {
            "text/plain": [
              "False"
            ]
          },
          "metadata": {},
          "execution_count": 49
        }
      ]
    },
    {
      "cell_type": "code",
      "metadata": {
        "colab": {
          "base_uri": "https://localhost:8080/"
        },
        "id": "ssbHbgPIHpeP",
        "outputId": "f68a26d8-f924-43b9-d154-77ea75c46407"
      },
      "source": [
        "qna_cycle_check(y)"
      ],
      "execution_count": null,
      "outputs": [
        {
          "output_type": "execute_result",
          "data": {
            "text/plain": [
              "False"
            ]
          },
          "metadata": {},
          "execution_count": 50
        }
      ]
    },
    {
      "cell_type": "code",
      "metadata": {
        "colab": {
          "base_uri": "https://localhost:8080/"
        },
        "id": "BKxw8lorHa5T",
        "outputId": "4c871a76-ea38-42aa-fcf8-3a6df7ad872f"
      },
      "source": [
        "qna_cycle_check(z)"
      ],
      "execution_count": null,
      "outputs": [
        {
          "output_type": "execute_result",
          "data": {
            "text/plain": [
              "False"
            ]
          },
          "metadata": {},
          "execution_count": 51
        }
      ]
    },
    {
      "cell_type": "code",
      "metadata": {
        "colab": {
          "base_uri": "https://localhost:8080/"
        },
        "id": "VO4T0RkCHt_H",
        "outputId": "6bfdda2e-92a0-4894-8a2b-c4963032fe7e"
      },
      "source": [
        "qna_cycle_check(k)"
      ],
      "execution_count": null,
      "outputs": [
        {
          "output_type": "execute_result",
          "data": {
            "text/plain": [
              "True"
            ]
          },
          "metadata": {},
          "execution_count": 52
        }
      ]
    },
    {
      "cell_type": "code",
      "metadata": {
        "colab": {
          "base_uri": "https://localhost:8080/"
        },
        "id": "J_gSLAOfHweX",
        "outputId": "fb0e93a9-e5d6-4ee1-d6d0-37c5ead13ff7"
      },
      "source": [
        "qna_cycle_check(m)"
      ],
      "execution_count": null,
      "outputs": [
        {
          "output_type": "execute_result",
          "data": {
            "text/plain": [
              "True"
            ]
          },
          "metadata": {},
          "execution_count": 53
        }
      ]
    },
    {
      "cell_type": "code",
      "metadata": {
        "id": "Hq4XtXukHzXa"
      },
      "source": [
        "h = Node(1)\n",
        "i = Node(1)\n",
        "j = Node(1)\n",
        "e = Node(1)\n",
        "f = Node(1)\n",
        "g = Node(1)"
      ],
      "execution_count": null,
      "outputs": []
    },
    {
      "cell_type": "code",
      "metadata": {
        "id": "BWcNVAUPH-BS"
      },
      "source": [
        "h.next_node = i\n",
        "i.next_node = j\n",
        "j.next_node = e\n",
        "e.next_node = f\n",
        "f.next_node = g"
      ],
      "execution_count": null,
      "outputs": []
    },
    {
      "cell_type": "code",
      "metadata": {
        "colab": {
          "base_uri": "https://localhost:8080/"
        },
        "id": "wOJasX0yICkt",
        "outputId": "65c92b56-f5bd-43c9-d65f-4f4a956c489c"
      },
      "source": [
        "qna_cycle_check(h)"
      ],
      "execution_count": null,
      "outputs": [
        {
          "output_type": "execute_result",
          "data": {
            "text/plain": [
              "False"
            ]
          },
          "metadata": {},
          "execution_count": 56
        }
      ]
    },
    {
      "cell_type": "code",
      "metadata": {
        "colab": {
          "base_uri": "https://localhost:8080/"
        },
        "id": "PC9G4CXOIF_z",
        "outputId": "fc3907aa-3791-4d6b-e66b-7d6600090018"
      },
      "source": [
        "qna_cycle_check(i)"
      ],
      "execution_count": null,
      "outputs": [
        {
          "output_type": "execute_result",
          "data": {
            "text/plain": [
              "False"
            ]
          },
          "metadata": {},
          "execution_count": 57
        }
      ]
    },
    {
      "cell_type": "code",
      "metadata": {
        "colab": {
          "base_uri": "https://localhost:8080/"
        },
        "id": "JOZbJRHxILU0",
        "outputId": "a402cd2a-0a7d-4d56-848b-12962c8287d1"
      },
      "source": [
        "qna_cycle_check(j)"
      ],
      "execution_count": null,
      "outputs": [
        {
          "output_type": "execute_result",
          "data": {
            "text/plain": [
              "False"
            ]
          },
          "metadata": {},
          "execution_count": 58
        }
      ]
    },
    {
      "cell_type": "code",
      "metadata": {
        "colab": {
          "base_uri": "https://localhost:8080/"
        },
        "id": "xtgbIUoXKzVl",
        "outputId": "47a0e9f0-8d6f-4924-c82c-01b16b4ac659"
      },
      "source": [
        "qna_cycle_check(e)"
      ],
      "execution_count": null,
      "outputs": [
        {
          "output_type": "execute_result",
          "data": {
            "text/plain": [
              "False"
            ]
          },
          "metadata": {},
          "execution_count": 59
        }
      ]
    },
    {
      "cell_type": "code",
      "metadata": {
        "colab": {
          "base_uri": "https://localhost:8080/"
        },
        "id": "Ct1sLowOKzfg",
        "outputId": "443337dd-9eb1-4357-b905-a531fe10f41b"
      },
      "source": [
        "qna_cycle_check(f)"
      ],
      "execution_count": null,
      "outputs": [
        {
          "output_type": "execute_result",
          "data": {
            "text/plain": [
              "False"
            ]
          },
          "metadata": {},
          "execution_count": 60
        }
      ]
    },
    {
      "cell_type": "code",
      "metadata": {
        "colab": {
          "base_uri": "https://localhost:8080/"
        },
        "id": "YrT0PCD1Kz6E",
        "outputId": "76ac4020-386b-415e-a9a6-f5e6ba5da36f"
      },
      "source": [
        "qna_cycle_check(g)"
      ],
      "execution_count": null,
      "outputs": [
        {
          "output_type": "execute_result",
          "data": {
            "text/plain": [
              "False"
            ]
          },
          "metadata": {},
          "execution_count": 61
        }
      ]
    },
    {
      "cell_type": "code",
      "metadata": {
        "id": "q6x80rVpK513"
      },
      "source": [
        "p = Node(1)\n",
        "q = Node(1)"
      ],
      "execution_count": null,
      "outputs": []
    },
    {
      "cell_type": "code",
      "metadata": {
        "id": "kqwSMx57LQfQ"
      },
      "source": [
        "p.next_node = q\n",
        "q.next_node = p"
      ],
      "execution_count": null,
      "outputs": []
    },
    {
      "cell_type": "code",
      "metadata": {
        "id": "Fw_NAXJrLUIj",
        "colab": {
          "base_uri": "https://localhost:8080/"
        },
        "outputId": "3d43595b-d591-4bc0-ab20-57755afe2f4e"
      },
      "source": [
        "qna_cycle_check(p)"
      ],
      "execution_count": null,
      "outputs": [
        {
          "output_type": "execute_result",
          "data": {
            "text/plain": [
              "True"
            ]
          },
          "metadata": {},
          "execution_count": 64
        }
      ]
    },
    {
      "cell_type": "code",
      "metadata": {
        "id": "M8zBYVeNLW1O",
        "colab": {
          "base_uri": "https://localhost:8080/"
        },
        "outputId": "db68c888-2217-4762-f329-96ab55a93b2a"
      },
      "source": [
        "qna_cycle_check(q)"
      ],
      "execution_count": null,
      "outputs": [
        {
          "output_type": "execute_result",
          "data": {
            "text/plain": [
              "True"
            ]
          },
          "metadata": {},
          "execution_count": 65
        }
      ]
    },
    {
      "cell_type": "markdown",
      "metadata": {
        "id": "-PwnqC5xCMZg"
      },
      "source": [
        "**Linked List Reversal**"
      ]
    },
    {
      "cell_type": "code",
      "metadata": {
        "id": "lTKCUU_3LYYt"
      },
      "source": [
        "class NodeReversal:\n",
        "\n",
        "  def __init__(self, data):\n",
        "    self.data = data\n",
        "    self.next_node = None"
      ],
      "execution_count": null,
      "outputs": []
    },
    {
      "cell_type": "code",
      "metadata": {
        "id": "Gji0EiZFCqF0"
      },
      "source": [
        "def my_reversal(node):\n",
        "\n",
        "  current_node = node\n",
        "  prev_node = None\n",
        "  while current_node.next_node: \n",
        "    next_node = current_node.next_node\n",
        "    current_node.next_node = prev_node\n",
        "    prev_node = current_node\n",
        "    current_node = next_node\n",
        "  current_node.next_node = prev_node"
      ],
      "execution_count": null,
      "outputs": []
    },
    {
      "cell_type": "code",
      "metadata": {
        "id": "EhZxYU7WPVKh"
      },
      "source": [
        "a = NodeReversal(1)\n",
        "b = NodeReversal(2)\n",
        "c = NodeReversal(3)\n",
        "d = NodeReversal(4)\n",
        "e = NodeReversal(5)\n",
        "f = NodeReversal(6)\n",
        "g = NodeReversal(7)"
      ],
      "execution_count": null,
      "outputs": []
    },
    {
      "cell_type": "code",
      "metadata": {
        "id": "s1X1ZomCQIYr"
      },
      "source": [
        "a.next_node = b\n",
        "b.next_node = c\n",
        "c.next_node = d\n",
        "d.next_node = e\n",
        "e.next_node = f\n",
        "f.next_node = g"
      ],
      "execution_count": null,
      "outputs": []
    },
    {
      "cell_type": "code",
      "metadata": {
        "colab": {
          "base_uri": "https://localhost:8080/"
        },
        "id": "GzPC1GwlPqSH",
        "outputId": "2982468f-c6a6-436c-f200-16530215c0b7"
      },
      "source": [
        "a.next_node.data"
      ],
      "execution_count": null,
      "outputs": [
        {
          "output_type": "execute_result",
          "data": {
            "text/plain": [
              "2"
            ]
          },
          "metadata": {},
          "execution_count": 184
        }
      ]
    },
    {
      "cell_type": "code",
      "metadata": {
        "id": "mAjmhLjDPqJC",
        "colab": {
          "base_uri": "https://localhost:8080/"
        },
        "outputId": "871b61d2-7a77-4a71-ad38-57a6bf5a8c51"
      },
      "source": [
        "b.next_node.data"
      ],
      "execution_count": null,
      "outputs": [
        {
          "output_type": "execute_result",
          "data": {
            "text/plain": [
              "3"
            ]
          },
          "metadata": {},
          "execution_count": 185
        }
      ]
    },
    {
      "cell_type": "code",
      "metadata": {
        "colab": {
          "base_uri": "https://localhost:8080/"
        },
        "id": "_4sdi5FvXz3w",
        "outputId": "5646350d-7c53-456e-b6f3-c8df94b5b5ce"
      },
      "source": [
        "c.next_node.data"
      ],
      "execution_count": null,
      "outputs": [
        {
          "output_type": "execute_result",
          "data": {
            "text/plain": [
              "4"
            ]
          },
          "metadata": {},
          "execution_count": 186
        }
      ]
    },
    {
      "cell_type": "code",
      "metadata": {
        "colab": {
          "base_uri": "https://localhost:8080/"
        },
        "id": "WXBihKPLX22m",
        "outputId": "3e76738a-b5d9-42c9-ac1f-90c3a205892b"
      },
      "source": [
        "d.next_node.data"
      ],
      "execution_count": null,
      "outputs": [
        {
          "output_type": "execute_result",
          "data": {
            "text/plain": [
              "5"
            ]
          },
          "metadata": {},
          "execution_count": 187
        }
      ]
    },
    {
      "cell_type": "code",
      "metadata": {
        "colab": {
          "base_uri": "https://localhost:8080/"
        },
        "id": "nQncW1nKaI8o",
        "outputId": "185baf33-a16b-4bda-f5e3-e02944d70d42"
      },
      "source": [
        "e.next_node.data"
      ],
      "execution_count": null,
      "outputs": [
        {
          "output_type": "execute_result",
          "data": {
            "text/plain": [
              "6"
            ]
          },
          "metadata": {},
          "execution_count": 188
        }
      ]
    },
    {
      "cell_type": "code",
      "metadata": {
        "colab": {
          "base_uri": "https://localhost:8080/"
        },
        "id": "2jOop0zjaJId",
        "outputId": "e1c02479-84f3-47b1-aa03-42a850f99c0e"
      },
      "source": [
        "f.next_node.data"
      ],
      "execution_count": null,
      "outputs": [
        {
          "output_type": "execute_result",
          "data": {
            "text/plain": [
              "7"
            ]
          },
          "metadata": {},
          "execution_count": 189
        }
      ]
    },
    {
      "cell_type": "code",
      "metadata": {
        "colab": {
          "base_uri": "https://localhost:8080/",
          "height": 163
        },
        "id": "Z8lnnqtXaKz2",
        "outputId": "d1701bd1-133a-459c-9838-1aecb152ce55"
      },
      "source": [
        "g.next_node.data"
      ],
      "execution_count": null,
      "outputs": [
        {
          "output_type": "error",
          "ename": "AttributeError",
          "evalue": "ignored",
          "traceback": [
            "\u001b[0;31m---------------------------------------------------------------------------\u001b[0m",
            "\u001b[0;31mAttributeError\u001b[0m                            Traceback (most recent call last)",
            "\u001b[0;32m<ipython-input-190-2fdbc0d25b64>\u001b[0m in \u001b[0;36m<module>\u001b[0;34m()\u001b[0m\n\u001b[0;32m----> 1\u001b[0;31m \u001b[0mg\u001b[0m\u001b[0;34m.\u001b[0m\u001b[0mnext_node\u001b[0m\u001b[0;34m.\u001b[0m\u001b[0mdata\u001b[0m\u001b[0;34m\u001b[0m\u001b[0;34m\u001b[0m\u001b[0m\n\u001b[0m",
            "\u001b[0;31mAttributeError\u001b[0m: 'NoneType' object has no attribute 'data'"
          ]
        }
      ]
    },
    {
      "cell_type": "code",
      "metadata": {
        "id": "nSWuWWM8PciH"
      },
      "source": [
        "my_reversal(a)"
      ],
      "execution_count": null,
      "outputs": []
    },
    {
      "cell_type": "code",
      "metadata": {
        "colab": {
          "base_uri": "https://localhost:8080/"
        },
        "id": "gJm21MsCaOnz",
        "outputId": "d6d0b721-9e47-4c67-c3b0-98d00c3678f4"
      },
      "source": [
        "g.next_node.data"
      ],
      "execution_count": null,
      "outputs": [
        {
          "output_type": "execute_result",
          "data": {
            "text/plain": [
              "6"
            ]
          },
          "metadata": {},
          "execution_count": 192
        }
      ]
    },
    {
      "cell_type": "code",
      "metadata": {
        "colab": {
          "base_uri": "https://localhost:8080/"
        },
        "id": "NmgI5TLnaOfk",
        "outputId": "ccbaeabe-a771-4f3b-b0d0-09aead9fa410"
      },
      "source": [
        "f.next_node.data"
      ],
      "execution_count": null,
      "outputs": [
        {
          "output_type": "execute_result",
          "data": {
            "text/plain": [
              "5"
            ]
          },
          "metadata": {},
          "execution_count": 193
        }
      ]
    },
    {
      "cell_type": "code",
      "metadata": {
        "colab": {
          "base_uri": "https://localhost:8080/"
        },
        "id": "uwj4DBbPaOTg",
        "outputId": "9fb18ca1-4a87-49a7-d62a-fc873792ad39"
      },
      "source": [
        "e.next_node.data"
      ],
      "execution_count": null,
      "outputs": [
        {
          "output_type": "execute_result",
          "data": {
            "text/plain": [
              "4"
            ]
          },
          "metadata": {},
          "execution_count": 194
        }
      ]
    },
    {
      "cell_type": "code",
      "metadata": {
        "id": "ou5D69ZiPeYC",
        "colab": {
          "base_uri": "https://localhost:8080/"
        },
        "outputId": "b13bfaa3-e9d7-4b57-ad95-08bc8bca2cd3"
      },
      "source": [
        "d.next_node.data"
      ],
      "execution_count": null,
      "outputs": [
        {
          "output_type": "execute_result",
          "data": {
            "text/plain": [
              "3"
            ]
          },
          "metadata": {},
          "execution_count": 195
        }
      ]
    },
    {
      "cell_type": "code",
      "metadata": {
        "colab": {
          "base_uri": "https://localhost:8080/"
        },
        "id": "IxKKikj9RNbZ",
        "outputId": "2d56dbab-5f26-4ab4-c46d-84a22f2b8833"
      },
      "source": [
        "c.next_node.data"
      ],
      "execution_count": null,
      "outputs": [
        {
          "output_type": "execute_result",
          "data": {
            "text/plain": [
              "2"
            ]
          },
          "metadata": {},
          "execution_count": 196
        }
      ]
    },
    {
      "cell_type": "code",
      "metadata": {
        "colab": {
          "base_uri": "https://localhost:8080/"
        },
        "id": "HGqvyUplRRA2",
        "outputId": "e40d0903-ad07-4671-eb98-de5723b8c447"
      },
      "source": [
        "b.next_node.data"
      ],
      "execution_count": null,
      "outputs": [
        {
          "output_type": "execute_result",
          "data": {
            "text/plain": [
              "1"
            ]
          },
          "metadata": {},
          "execution_count": 197
        }
      ]
    },
    {
      "cell_type": "code",
      "metadata": {
        "colab": {
          "base_uri": "https://localhost:8080/",
          "height": 163
        },
        "id": "e-2_hH-MRTVn",
        "outputId": "226bfb42-2ad7-4fe1-b811-d177454dc717"
      },
      "source": [
        "a.next_node.data"
      ],
      "execution_count": null,
      "outputs": [
        {
          "output_type": "error",
          "ename": "AttributeError",
          "evalue": "ignored",
          "traceback": [
            "\u001b[0;31m---------------------------------------------------------------------------\u001b[0m",
            "\u001b[0;31mAttributeError\u001b[0m                            Traceback (most recent call last)",
            "\u001b[0;32m<ipython-input-198-964aecdacbfe>\u001b[0m in \u001b[0;36m<module>\u001b[0;34m()\u001b[0m\n\u001b[0;32m----> 1\u001b[0;31m \u001b[0ma\u001b[0m\u001b[0;34m.\u001b[0m\u001b[0mnext_node\u001b[0m\u001b[0;34m.\u001b[0m\u001b[0mdata\u001b[0m\u001b[0;34m\u001b[0m\u001b[0;34m\u001b[0m\u001b[0m\n\u001b[0m",
            "\u001b[0;31mAttributeError\u001b[0m: 'NoneType' object has no attribute 'data'"
          ]
        }
      ]
    },
    {
      "cell_type": "markdown",
      "metadata": {
        "id": "8Gzt-ByPbeZV"
      },
      "source": [
        "Tutorial Solution"
      ]
    },
    {
      "cell_type": "code",
      "metadata": {
        "id": "C3xN48ZyYAf9"
      },
      "source": [
        "def reverse(head):\n",
        "\n",
        "  current = head\n",
        "  previous = None\n",
        "  nextnode = None\n",
        "\n",
        "  while current:\n",
        "    \n",
        "    nextnode = current.next_node\n",
        "    current.next_node = previous\n",
        "    previous = current\n",
        "    current = nextnode\n",
        "  \n",
        "  return previous"
      ],
      "execution_count": null,
      "outputs": []
    },
    {
      "cell_type": "code",
      "metadata": {
        "id": "rVencEJbbxKc"
      },
      "source": [
        "a = NodeReversal(1)\n",
        "b = NodeReversal(2)\n",
        "c = NodeReversal(3)\n",
        "d = NodeReversal(4)\n",
        "e = NodeReversal(5)\n",
        "f = NodeReversal(6)\n",
        "g = NodeReversal(7)"
      ],
      "execution_count": null,
      "outputs": []
    },
    {
      "cell_type": "code",
      "metadata": {
        "id": "XNcqIrp4bzsP"
      },
      "source": [
        "a.next_node = b\n",
        "b.next_node = c\n",
        "c.next_node = d\n",
        "d.next_node = e\n",
        "e.next_node = f\n",
        "f.next_node = g"
      ],
      "execution_count": null,
      "outputs": []
    },
    {
      "cell_type": "code",
      "metadata": {
        "colab": {
          "base_uri": "https://localhost:8080/"
        },
        "id": "F1EltnOcb2_P",
        "outputId": "e1dfef1d-16c3-4157-8d55-132f96834bd3"
      },
      "source": [
        "print(a.next_node.data)\n",
        "print(b.next_node.data)\n",
        "print(c.next_node.data)\n",
        "print(d.next_node.data)\n",
        "print(e.next_node.data)\n",
        "print(f.next_node.data)"
      ],
      "execution_count": null,
      "outputs": [
        {
          "output_type": "stream",
          "name": "stdout",
          "text": [
            "2\n",
            "3\n",
            "4\n",
            "5\n",
            "6\n",
            "7\n"
          ]
        }
      ]
    },
    {
      "cell_type": "code",
      "metadata": {
        "colab": {
          "base_uri": "https://localhost:8080/",
          "height": 163
        },
        "id": "v53DyCdVb861",
        "outputId": "e0edeaf6-84bf-4eb8-efb3-b9a9027e3baa"
      },
      "source": [
        "g.next_node.data"
      ],
      "execution_count": null,
      "outputs": [
        {
          "output_type": "error",
          "ename": "AttributeError",
          "evalue": "ignored",
          "traceback": [
            "\u001b[0;31m---------------------------------------------------------------------------\u001b[0m",
            "\u001b[0;31mAttributeError\u001b[0m                            Traceback (most recent call last)",
            "\u001b[0;32m<ipython-input-209-2fdbc0d25b64>\u001b[0m in \u001b[0;36m<module>\u001b[0;34m()\u001b[0m\n\u001b[0;32m----> 1\u001b[0;31m \u001b[0mg\u001b[0m\u001b[0;34m.\u001b[0m\u001b[0mnext_node\u001b[0m\u001b[0;34m.\u001b[0m\u001b[0mdata\u001b[0m\u001b[0;34m\u001b[0m\u001b[0;34m\u001b[0m\u001b[0m\n\u001b[0m",
            "\u001b[0;31mAttributeError\u001b[0m: 'NoneType' object has no attribute 'data'"
          ]
        }
      ]
    },
    {
      "cell_type": "code",
      "metadata": {
        "colab": {
          "base_uri": "https://localhost:8080/"
        },
        "id": "UJjGcKyFcDxD",
        "outputId": "ffcec253-3372-404a-f9a6-510e55d8891e"
      },
      "source": [
        "reverse(a)"
      ],
      "execution_count": null,
      "outputs": [
        {
          "output_type": "execute_result",
          "data": {
            "text/plain": [
              "<__main__.NodeReversal at 0x7f5d938feb90>"
            ]
          },
          "metadata": {},
          "execution_count": 210
        }
      ]
    },
    {
      "cell_type": "code",
      "metadata": {
        "colab": {
          "base_uri": "https://localhost:8080/"
        },
        "id": "cLBgtOPub_aR",
        "outputId": "d1ab7889-541a-44c8-9741-fddcf702b1b6"
      },
      "source": [
        "print(g.next_node.data)\n",
        "print(f.next_node.data)\n",
        "print(e.next_node.data)\n",
        "print(d.next_node.data)\n",
        "print(c.next_node.data)\n",
        "print(b.next_node.data)"
      ],
      "execution_count": null,
      "outputs": [
        {
          "output_type": "stream",
          "name": "stdout",
          "text": [
            "6\n",
            "5\n",
            "4\n",
            "3\n",
            "2\n",
            "1\n"
          ]
        }
      ]
    },
    {
      "cell_type": "code",
      "metadata": {
        "colab": {
          "base_uri": "https://localhost:8080/",
          "height": 163
        },
        "id": "XNo8_9gVcMpQ",
        "outputId": "2d05d4aa-80e0-4946-d4b2-03709c4520fb"
      },
      "source": [
        "a.next_node.data"
      ],
      "execution_count": null,
      "outputs": [
        {
          "output_type": "error",
          "ename": "AttributeError",
          "evalue": "ignored",
          "traceback": [
            "\u001b[0;31m---------------------------------------------------------------------------\u001b[0m",
            "\u001b[0;31mAttributeError\u001b[0m                            Traceback (most recent call last)",
            "\u001b[0;32m<ipython-input-213-964aecdacbfe>\u001b[0m in \u001b[0;36m<module>\u001b[0;34m()\u001b[0m\n\u001b[0;32m----> 1\u001b[0;31m \u001b[0ma\u001b[0m\u001b[0;34m.\u001b[0m\u001b[0mnext_node\u001b[0m\u001b[0;34m.\u001b[0m\u001b[0mdata\u001b[0m\u001b[0;34m\u001b[0m\u001b[0;34m\u001b[0m\u001b[0m\n\u001b[0m",
            "\u001b[0;31mAttributeError\u001b[0m: 'NoneType' object has no attribute 'data'"
          ]
        }
      ]
    },
    {
      "cell_type": "markdown",
      "metadata": {
        "id": "qhez9UtscUCH"
      },
      "source": [
        "**Linked List N-th to Last Node**"
      ]
    },
    {
      "cell_type": "code",
      "metadata": {
        "id": "VpRDNrP4cSv5"
      },
      "source": [
        "class NodeNthLast:\n",
        "\n",
        "  def __init__(self, data):\n",
        "    self.data = data\n",
        "    self.next_node = None"
      ],
      "execution_count": null,
      "outputs": []
    },
    {
      "cell_type": "code",
      "metadata": {
        "id": "PXzq8AoPwq17"
      },
      "source": [
        "def my_nth_last_node(number, node):\n",
        "\n",
        "  current_node = node\n",
        "  start_number = 0\n",
        "  total_node = 0\n",
        "\n",
        "  while current_node.next_node:\n",
        "    total_node += 1\n",
        "    current_node = current_node.next_node\n",
        "\n",
        "  traverse_number = total_node - number\n",
        "  if traverse_number < 0:\n",
        "    return print(f\"Total data less than {number}\")\n",
        "\n",
        "  while start_number <= traverse_number:\n",
        "    node = node.next_node\n",
        "    start_number += 1\n",
        "  \n",
        "  return node"
      ],
      "execution_count": null,
      "outputs": []
    },
    {
      "cell_type": "code",
      "metadata": {
        "id": "zEMuyPpjyODF"
      },
      "source": [
        "a = NodeNthLast(1)\n",
        "b = NodeNthLast(2)\n",
        "c = NodeNthLast(3)\n",
        "d = NodeNthLast(4)\n",
        "e = NodeNthLast(5)\n",
        "f = NodeNthLast(6)\n",
        "g = NodeNthLast(7)\n",
        "h = NodeNthLast(8)\n",
        "\n",
        "a.next_node = b\n",
        "b.next_node = c\n",
        "c.next_node = d\n",
        "d.next_node = e\n",
        "e.next_node = f\n",
        "f.next_node = g\n",
        "g.next_node = h"
      ],
      "execution_count": null,
      "outputs": []
    },
    {
      "cell_type": "code",
      "metadata": {
        "colab": {
          "base_uri": "https://localhost:8080/"
        },
        "id": "uEY7bQcxyauL",
        "outputId": "9ed8775e-71e8-4b16-c982-9738eb11ff01"
      },
      "source": [
        "target_node = my_nth_last_node(2, a)\n",
        "target_node.data"
      ],
      "execution_count": null,
      "outputs": [
        {
          "output_type": "execute_result",
          "data": {
            "text/plain": [
              "7"
            ]
          },
          "metadata": {},
          "execution_count": 248
        }
      ]
    },
    {
      "cell_type": "code",
      "metadata": {
        "colab": {
          "base_uri": "https://localhost:8080/"
        },
        "id": "PBe0-h8ayiz_",
        "outputId": "ddfcc576-1bf4-4b4f-a7a7-ccab0534f9ed"
      },
      "source": [
        "target_node = my_nth_last_node(5, a)\n",
        "target_node.data"
      ],
      "execution_count": null,
      "outputs": [
        {
          "output_type": "execute_result",
          "data": {
            "text/plain": [
              "4"
            ]
          },
          "metadata": {},
          "execution_count": 249
        }
      ]
    },
    {
      "cell_type": "code",
      "metadata": {
        "colab": {
          "base_uri": "https://localhost:8080/"
        },
        "id": "JG7JA8FWzyvO",
        "outputId": "c9729dc8-a3f3-4cb0-bb72-cb4a44e91812"
      },
      "source": [
        "target_node = my_nth_last_node(2, d)\n",
        "target_node.data"
      ],
      "execution_count": null,
      "outputs": [
        {
          "output_type": "execute_result",
          "data": {
            "text/plain": [
              "7"
            ]
          },
          "metadata": {},
          "execution_count": 250
        }
      ]
    },
    {
      "cell_type": "code",
      "metadata": {
        "colab": {
          "base_uri": "https://localhost:8080/"
        },
        "id": "thErgb0F0C70",
        "outputId": "aa979a3c-9423-4830-c0a1-e96d47aca91c"
      },
      "source": [
        "target_node = my_nth_last_node(9, d)\n",
        "# target_node.data"
      ],
      "execution_count": null,
      "outputs": [
        {
          "output_type": "stream",
          "name": "stdout",
          "text": [
            "Total data less than 9\n"
          ]
        }
      ]
    },
    {
      "cell_type": "code",
      "metadata": {
        "id": "vW-2a8yo1uhJ"
      },
      "source": [
        "def my_reversal_(node):\n",
        "\n",
        "  current_node = node\n",
        "  prev_node = None\n",
        "  while current_node.next_node: \n",
        "    next_node = current_node.next_node\n",
        "    current_node.next_node = prev_node\n",
        "    prev_node = current_node\n",
        "    current_node = next_node\n",
        "  current_node.next_node = prev_node\n",
        "\n",
        "  return current_node\n",
        "\n",
        "def my_nth_last_node_2(number, node):\n",
        "\n",
        "  first_node = my_reversal_(node)  # reverse the order\n",
        "  target_node = first_node\n",
        "\n",
        "  while number > 1:\n",
        "    target_node = target_node.next_node\n",
        "    number -= 1\n",
        "\n",
        "  my_reversal_(first_node)  # reverse back the order of the node so the next test would not resulting an error\n",
        "\n",
        "  return target_node"
      ],
      "execution_count": null,
      "outputs": []
    },
    {
      "cell_type": "code",
      "metadata": {
        "id": "2i3s4l4w3GDR"
      },
      "source": [
        "a = NodeNthLast(1)\n",
        "b = NodeNthLast(2)\n",
        "c = NodeNthLast(3)\n",
        "d = NodeNthLast(4)\n",
        "e = NodeNthLast(5)\n",
        "f = NodeNthLast(6)\n",
        "g = NodeNthLast(7)\n",
        "h = NodeNthLast(8)\n",
        "\n",
        "a.next_node = b\n",
        "b.next_node = c\n",
        "c.next_node = d\n",
        "d.next_node = e\n",
        "e.next_node = f\n",
        "f.next_node = g\n",
        "g.next_node = h"
      ],
      "execution_count": null,
      "outputs": []
    },
    {
      "cell_type": "code",
      "metadata": {
        "colab": {
          "base_uri": "https://localhost:8080/"
        },
        "id": "OdV-LE4y0HPJ",
        "outputId": "6e248213-a054-45fe-98ae-a2e272a84541"
      },
      "source": [
        "target_node = my_nth_last_node_2(2, a)\n",
        "target_node.data"
      ],
      "execution_count": null,
      "outputs": [
        {
          "output_type": "execute_result",
          "data": {
            "text/plain": [
              "7"
            ]
          },
          "metadata": {},
          "execution_count": 285
        }
      ]
    },
    {
      "cell_type": "code",
      "metadata": {
        "id": "p5cuGgTN23A1",
        "colab": {
          "base_uri": "https://localhost:8080/"
        },
        "outputId": "196aa98c-d24b-4792-d715-7226659763bb"
      },
      "source": [
        "target_node = my_nth_last_node_2(5, a)\n",
        "target_node.data"
      ],
      "execution_count": null,
      "outputs": [
        {
          "output_type": "execute_result",
          "data": {
            "text/plain": [
              "4"
            ]
          },
          "metadata": {},
          "execution_count": 286
        }
      ]
    },
    {
      "cell_type": "code",
      "metadata": {
        "colab": {
          "base_uri": "https://localhost:8080/"
        },
        "id": "DK0QgAF63hfw",
        "outputId": "1ad5c482-4e82-4865-8561-f5c00ba774f0"
      },
      "source": [
        "target_node = my_nth_last_node_2(2, a)\n",
        "target_node.data"
      ],
      "execution_count": null,
      "outputs": [
        {
          "output_type": "execute_result",
          "data": {
            "text/plain": [
              "7"
            ]
          },
          "metadata": {},
          "execution_count": 287
        }
      ]
    },
    {
      "cell_type": "code",
      "metadata": {
        "colab": {
          "base_uri": "https://localhost:8080/"
        },
        "id": "YDtxrlR-4Src",
        "outputId": "83708df0-4d22-4846-8689-336c192ed1c2"
      },
      "source": [
        "target_node = my_nth_last_node_2(5, a)\n",
        "target_node.data"
      ],
      "execution_count": null,
      "outputs": [
        {
          "output_type": "execute_result",
          "data": {
            "text/plain": [
              "4"
            ]
          },
          "metadata": {},
          "execution_count": 288
        }
      ]
    },
    {
      "cell_type": "code",
      "metadata": {
        "colab": {
          "base_uri": "https://localhost:8080/"
        },
        "id": "Pk_BgaA14yGc",
        "outputId": "fe84a237-e175-4a86-82d6-04e5ba474c44"
      },
      "source": [
        "target_node = my_nth_last_node_2(2, c)\n",
        "target_node.data"
      ],
      "execution_count": null,
      "outputs": [
        {
          "output_type": "execute_result",
          "data": {
            "text/plain": [
              "7"
            ]
          },
          "metadata": {},
          "execution_count": 289
        }
      ]
    },
    {
      "cell_type": "code",
      "metadata": {
        "colab": {
          "base_uri": "https://localhost:8080/"
        },
        "id": "NwA9c6Ek42wA",
        "outputId": "26bca54d-58e1-4cfd-ed11-96d3dcb3d7ce"
      },
      "source": [
        "target_node = my_nth_last_node_2(5, c)\n",
        "target_node.data"
      ],
      "execution_count": null,
      "outputs": [
        {
          "output_type": "execute_result",
          "data": {
            "text/plain": [
              "4"
            ]
          },
          "metadata": {},
          "execution_count": 290
        }
      ]
    },
    {
      "cell_type": "markdown",
      "metadata": {
        "id": "sKNRIhds5W4r"
      },
      "source": [
        "Tutorial Solution"
      ]
    },
    {
      "cell_type": "code",
      "metadata": {
        "id": "UypuDSVb44qi"
      },
      "source": [
        "def nth_to_last_node(n, head):\n",
        "\n",
        "  left_pointer = head\n",
        "  right_pointer = head\n",
        "  \n",
        "  while n > 1:\n",
        "    try:\n",
        "      right_pointer = right_pointer.next_node\n",
        "      n -= 1\n",
        "    except (AttributeError):\n",
        "      raise LookupError(\"Error: number is larger than the linked list\")\n",
        "  \n",
        "  try:\n",
        "    while right_pointer.next_node:\n",
        "      left_pointer = left_pointer.next_node\n",
        "      right_pointer = right_pointer.next_node\n",
        "  except (AttributeError):\n",
        "    raise LookupError(\"Error: number is larger than the linked list\")\n",
        "\n",
        "  return left_pointer"
      ],
      "execution_count": null,
      "outputs": []
    },
    {
      "cell_type": "code",
      "metadata": {
        "id": "zNP89vRt7KUT"
      },
      "source": [
        "a = NodeNthLast(1)\n",
        "b = NodeNthLast(2)\n",
        "c = NodeNthLast(3)\n",
        "d = NodeNthLast(4)\n",
        "e = NodeNthLast(5)\n",
        "f = NodeNthLast(6)\n",
        "g = NodeNthLast(7)\n",
        "h = NodeNthLast(8)\n",
        "\n",
        "a.next_node = b\n",
        "b.next_node = c\n",
        "c.next_node = d\n",
        "d.next_node = e\n",
        "e.next_node = f\n",
        "f.next_node = g\n",
        "g.next_node = h"
      ],
      "execution_count": null,
      "outputs": []
    },
    {
      "cell_type": "code",
      "metadata": {
        "colab": {
          "base_uri": "https://localhost:8080/"
        },
        "id": "6expxKtB7MfK",
        "outputId": "1860c497-d129-4571-847b-830feb59805d"
      },
      "source": [
        "target_node = nth_to_last_node(2, a)\n",
        "target_node.data"
      ],
      "execution_count": null,
      "outputs": [
        {
          "output_type": "execute_result",
          "data": {
            "text/plain": [
              "7"
            ]
          },
          "metadata": {},
          "execution_count": 336
        }
      ]
    },
    {
      "cell_type": "code",
      "metadata": {
        "colab": {
          "base_uri": "https://localhost:8080/"
        },
        "id": "7Vk_vIlb7b4i",
        "outputId": "afdc3375-6feb-4c79-9587-67e84fd46f85"
      },
      "source": [
        "target_node = nth_to_last_node(5, a)\n",
        "target_node.data"
      ],
      "execution_count": null,
      "outputs": [
        {
          "output_type": "execute_result",
          "data": {
            "text/plain": [
              "4"
            ]
          },
          "metadata": {},
          "execution_count": 337
        }
      ]
    },
    {
      "cell_type": "code",
      "metadata": {
        "colab": {
          "base_uri": "https://localhost:8080/"
        },
        "id": "VaMIx_-u7d_G",
        "outputId": "92c193b4-96f6-4644-8d05-5eb24057679d"
      },
      "source": [
        "target_node = nth_to_last_node(2, c)\n",
        "target_node.data"
      ],
      "execution_count": null,
      "outputs": [
        {
          "output_type": "execute_result",
          "data": {
            "text/plain": [
              "7"
            ]
          },
          "metadata": {},
          "execution_count": 338
        }
      ]
    },
    {
      "cell_type": "code",
      "metadata": {
        "colab": {
          "base_uri": "https://localhost:8080/"
        },
        "id": "npRbH5-I7gyS",
        "outputId": "cad7660b-7468-4442-e550-7cf38b516ae9"
      },
      "source": [
        "target_node = nth_to_last_node(4, c)\n",
        "target_node.data"
      ],
      "execution_count": null,
      "outputs": [
        {
          "output_type": "execute_result",
          "data": {
            "text/plain": [
              "5"
            ]
          },
          "metadata": {},
          "execution_count": 339
        }
      ]
    },
    {
      "cell_type": "code",
      "metadata": {
        "colab": {
          "base_uri": "https://localhost:8080/"
        },
        "id": "9B78lLGp7iw0",
        "outputId": "5429c3e5-0cbf-4a99-d0ff-d4e64f1d5a59"
      },
      "source": [
        "target_node = nth_to_last_node(8, a)\n",
        "target_node.data"
      ],
      "execution_count": null,
      "outputs": [
        {
          "output_type": "execute_result",
          "data": {
            "text/plain": [
              "1"
            ]
          },
          "metadata": {},
          "execution_count": 340
        }
      ]
    },
    {
      "cell_type": "code",
      "metadata": {
        "colab": {
          "base_uri": "https://localhost:8080/",
          "height": 425
        },
        "id": "38h4cnz78YLk",
        "outputId": "f8b55640-8b31-454e-e667-dfcea47d5313"
      },
      "source": [
        "target_node = nth_to_last_node(8, b)\n",
        "target_node.data"
      ],
      "execution_count": null,
      "outputs": [
        {
          "output_type": "error",
          "ename": "LookupError",
          "evalue": "ignored",
          "traceback": [
            "\u001b[0;31m---------------------------------------------------------------------------\u001b[0m",
            "\u001b[0;31mAttributeError\u001b[0m                            Traceback (most recent call last)",
            "\u001b[0;32m<ipython-input-334-903eabb7468b>\u001b[0m in \u001b[0;36mnth_to_last_node\u001b[0;34m(n, head)\u001b[0m\n\u001b[1;32m     13\u001b[0m   \u001b[0;32mtry\u001b[0m\u001b[0;34m:\u001b[0m\u001b[0;34m\u001b[0m\u001b[0;34m\u001b[0m\u001b[0m\n\u001b[0;32m---> 14\u001b[0;31m     \u001b[0;32mwhile\u001b[0m \u001b[0mright_pointer\u001b[0m\u001b[0;34m.\u001b[0m\u001b[0mnext_node\u001b[0m\u001b[0;34m:\u001b[0m\u001b[0;34m\u001b[0m\u001b[0;34m\u001b[0m\u001b[0m\n\u001b[0m\u001b[1;32m     15\u001b[0m       \u001b[0mleft_pointer\u001b[0m \u001b[0;34m=\u001b[0m \u001b[0mleft_pointer\u001b[0m\u001b[0;34m.\u001b[0m\u001b[0mnext_node\u001b[0m\u001b[0;34m\u001b[0m\u001b[0;34m\u001b[0m\u001b[0m\n",
            "\u001b[0;31mAttributeError\u001b[0m: 'NoneType' object has no attribute 'next_node'",
            "\nDuring handling of the above exception, another exception occurred:\n",
            "\u001b[0;31mLookupError\u001b[0m                               Traceback (most recent call last)",
            "\u001b[0;32m<ipython-input-341-f0ffc8ecd4ce>\u001b[0m in \u001b[0;36m<module>\u001b[0;34m()\u001b[0m\n\u001b[0;32m----> 1\u001b[0;31m \u001b[0mtarget_node\u001b[0m \u001b[0;34m=\u001b[0m \u001b[0mnth_to_last_node\u001b[0m\u001b[0;34m(\u001b[0m\u001b[0;36m8\u001b[0m\u001b[0;34m,\u001b[0m \u001b[0mb\u001b[0m\u001b[0;34m)\u001b[0m\u001b[0;34m\u001b[0m\u001b[0;34m\u001b[0m\u001b[0m\n\u001b[0m\u001b[1;32m      2\u001b[0m \u001b[0mtarget_node\u001b[0m\u001b[0;34m.\u001b[0m\u001b[0mdata\u001b[0m\u001b[0;34m\u001b[0m\u001b[0;34m\u001b[0m\u001b[0m\n",
            "\u001b[0;32m<ipython-input-334-903eabb7468b>\u001b[0m in \u001b[0;36mnth_to_last_node\u001b[0;34m(n, head)\u001b[0m\n\u001b[1;32m     16\u001b[0m       \u001b[0mright_pointer\u001b[0m \u001b[0;34m=\u001b[0m \u001b[0mright_pointer\u001b[0m\u001b[0;34m.\u001b[0m\u001b[0mnext_node\u001b[0m\u001b[0;34m\u001b[0m\u001b[0;34m\u001b[0m\u001b[0m\n\u001b[1;32m     17\u001b[0m   \u001b[0;32mexcept\u001b[0m \u001b[0;34m(\u001b[0m\u001b[0mAttributeError\u001b[0m\u001b[0;34m)\u001b[0m\u001b[0;34m:\u001b[0m\u001b[0;34m\u001b[0m\u001b[0;34m\u001b[0m\u001b[0m\n\u001b[0;32m---> 18\u001b[0;31m     \u001b[0;32mraise\u001b[0m \u001b[0mLookupError\u001b[0m\u001b[0;34m(\u001b[0m\u001b[0;34m\"Error: number is larger than the linked list\"\u001b[0m\u001b[0;34m)\u001b[0m\u001b[0;34m\u001b[0m\u001b[0;34m\u001b[0m\u001b[0m\n\u001b[0m\u001b[1;32m     19\u001b[0m \u001b[0;34m\u001b[0m\u001b[0m\n\u001b[1;32m     20\u001b[0m   \u001b[0;32mreturn\u001b[0m \u001b[0mleft_pointer\u001b[0m\u001b[0;34m\u001b[0m\u001b[0;34m\u001b[0m\u001b[0m\n",
            "\u001b[0;31mLookupError\u001b[0m: Error: number is larger than the linked list"
          ]
        }
      ]
    },
    {
      "cell_type": "markdown",
      "metadata": {
        "id": "0-MYfdZMtRs9"
      },
      "source": [
        "**Linked List Implementation**"
      ]
    },
    {
      "cell_type": "markdown",
      "metadata": {
        "id": "a8Ksl3Kh0CzQ"
      },
      "source": [
        "Singly Linked List"
      ]
    },
    {
      "cell_type": "code",
      "metadata": {
        "id": "RjM1MSyN9MEi"
      },
      "source": [
        "class NodeLinkedList:\n",
        "\n",
        "  def __init__(self, data=None, next_node=None):\n",
        "    self.data = data\n",
        "    self.next_node = next_node\n",
        "\n",
        "class SinglyLinkedList:\n",
        "\n",
        "  def __init__(self):\n",
        "    self.head = None\n",
        "    self.tail = None\n",
        "  \n",
        "  def add_item_at_head(self, data):\n",
        "\n",
        "    if self.head is None:\n",
        "      self.head = self.tail = NodeLinkedList(data, None)\n",
        "      return\n",
        "    \n",
        "    new_node = NodeLinkedList(data, self.head)\n",
        "    self.head = new_node\n",
        "    return\n",
        "\n",
        "  def add_item_at_tail(self, data):\n",
        "\n",
        "    if self.head is None:\n",
        "      self.add_item_at_head(data)\n",
        "      return\n",
        "    \n",
        "    new_node = NodeLinkedList(data, None)\n",
        "\n",
        "    self.tail.next_node = new_node\n",
        "    self.tail = self.tail.next_node\n",
        "    return\n",
        "\n",
        "  def delete_head(self):\n",
        "    if self.head is None:\n",
        "      return print(\"Linked List contain no Data.\")\n",
        "    deleted = self.head  # if deleted data need to be returned, if not just comment this line\n",
        "    self.head = self.head.next_node\n",
        "    if self.head is None:\n",
        "      self.tail = None\n",
        "    return deleted\n",
        "  \n",
        "  def peek_head(self):\n",
        "    return self.head\n",
        "  \n",
        "  def peek_tail(self):\n",
        "    return self.tail\n",
        "  \n",
        "  def to_list(self):\n",
        "    list_ = []\n",
        "    if self.head is None:\n",
        "      return list_\n",
        "    \n",
        "    node = self.head\n",
        "    while node:\n",
        "      list_.append(node)\n",
        "      node = node.next_node\n",
        "    return list_"
      ],
      "execution_count": 200,
      "outputs": []
    },
    {
      "cell_type": "code",
      "metadata": {
        "id": "roWgJ-CKwv3b"
      },
      "source": [
        "my_ll = SinglyLinkedList()"
      ],
      "execution_count": 201,
      "outputs": []
    },
    {
      "cell_type": "code",
      "metadata": {
        "id": "VTnqachbw4rm"
      },
      "source": [
        "my_ll.add_item_at_head(1)"
      ],
      "execution_count": 202,
      "outputs": []
    },
    {
      "cell_type": "code",
      "metadata": {
        "colab": {
          "base_uri": "https://localhost:8080/"
        },
        "id": "S3poguBxw8-h",
        "outputId": "9b8b9e91-23a3-4779-fa35-4fa618cc2bfd"
      },
      "source": [
        "head = my_ll.peek_head()\n",
        "head.data"
      ],
      "execution_count": 203,
      "outputs": [
        {
          "output_type": "execute_result",
          "data": {
            "text/plain": [
              "1"
            ]
          },
          "metadata": {},
          "execution_count": 203
        }
      ]
    },
    {
      "cell_type": "code",
      "metadata": {
        "colab": {
          "base_uri": "https://localhost:8080/"
        },
        "id": "SAA-ty7BxCWg",
        "outputId": "72a48797-6972-470b-c84d-dfdf3a6c30d2"
      },
      "source": [
        "tail = my_ll.peek_tail()\n",
        "tail.data"
      ],
      "execution_count": 204,
      "outputs": [
        {
          "output_type": "execute_result",
          "data": {
            "text/plain": [
              "1"
            ]
          },
          "metadata": {},
          "execution_count": 204
        }
      ]
    },
    {
      "cell_type": "code",
      "metadata": {
        "id": "CIwWSI3zxJYW"
      },
      "source": [
        "my_ll.add_item_at_head(2)"
      ],
      "execution_count": 205,
      "outputs": []
    },
    {
      "cell_type": "code",
      "metadata": {
        "colab": {
          "base_uri": "https://localhost:8080/"
        },
        "id": "4t2wxNKSxL9x",
        "outputId": "953e824a-badf-44c8-d641-2cd9b259819b"
      },
      "source": [
        "head = my_ll.peek_head()\n",
        "head.data"
      ],
      "execution_count": 206,
      "outputs": [
        {
          "output_type": "execute_result",
          "data": {
            "text/plain": [
              "2"
            ]
          },
          "metadata": {},
          "execution_count": 206
        }
      ]
    },
    {
      "cell_type": "code",
      "metadata": {
        "colab": {
          "base_uri": "https://localhost:8080/"
        },
        "id": "QIWnUZiMxNK8",
        "outputId": "8c3cfd7b-eadc-4331-f6df-11c5b85e6d12"
      },
      "source": [
        "tail = my_ll.peek_tail()\n",
        "tail.data"
      ],
      "execution_count": 207,
      "outputs": [
        {
          "output_type": "execute_result",
          "data": {
            "text/plain": [
              "1"
            ]
          },
          "metadata": {},
          "execution_count": 207
        }
      ]
    },
    {
      "cell_type": "code",
      "metadata": {
        "id": "ogFB3_HzxOYM"
      },
      "source": [
        "my_ll.add_item_at_head(3)\n",
        "my_ll.add_item_at_head(4)\n",
        "my_ll.add_item_at_head(5)\n",
        "my_ll.add_item_at_head(6)\n",
        "my_ll.add_item_at_head(7)"
      ],
      "execution_count": 208,
      "outputs": []
    },
    {
      "cell_type": "code",
      "metadata": {
        "colab": {
          "base_uri": "https://localhost:8080/"
        },
        "id": "jsT8a0_Uxs4v",
        "outputId": "6d2d141b-771e-4835-d15a-699bb2fe21ec"
      },
      "source": [
        "head = my_ll.peek_head()\n",
        "tail = my_ll.peek_tail()\n",
        "print(head.data)\n",
        "print(tail.data)"
      ],
      "execution_count": 209,
      "outputs": [
        {
          "output_type": "stream",
          "name": "stdout",
          "text": [
            "7\n",
            "1\n"
          ]
        }
      ]
    },
    {
      "cell_type": "code",
      "metadata": {
        "colab": {
          "base_uri": "https://localhost:8080/"
        },
        "id": "iLZICowN8AjY",
        "outputId": "c9e86a22-4352-4d53-e48c-60fde37d526d"
      },
      "source": [
        "list_data = [node.data for node in my_ll.to_list()]\n",
        "list_data"
      ],
      "execution_count": 210,
      "outputs": [
        {
          "output_type": "execute_result",
          "data": {
            "text/plain": [
              "[7, 6, 5, 4, 3, 2, 1]"
            ]
          },
          "metadata": {},
          "execution_count": 210
        }
      ]
    },
    {
      "cell_type": "code",
      "metadata": {
        "colab": {
          "base_uri": "https://localhost:8080/"
        },
        "id": "q6y7uoU2462I",
        "outputId": "884864ba-5a4c-455e-8468-2915663c4f2f"
      },
      "source": [
        "delete_head = my_ll.delete_head()\n",
        "delete_head.data"
      ],
      "execution_count": 211,
      "outputs": [
        {
          "output_type": "execute_result",
          "data": {
            "text/plain": [
              "7"
            ]
          },
          "metadata": {},
          "execution_count": 211
        }
      ]
    },
    {
      "cell_type": "code",
      "metadata": {
        "colab": {
          "base_uri": "https://localhost:8080/"
        },
        "id": "1iGPObIi479P",
        "outputId": "307fa51b-02d0-41b0-ab5f-3aa4391442ef"
      },
      "source": [
        "head = my_ll.peek_head()\n",
        "tail = my_ll.peek_tail()\n",
        "print(head.data)\n",
        "print(tail.data)"
      ],
      "execution_count": 212,
      "outputs": [
        {
          "output_type": "stream",
          "name": "stdout",
          "text": [
            "6\n",
            "1\n"
          ]
        }
      ]
    },
    {
      "cell_type": "code",
      "metadata": {
        "colab": {
          "base_uri": "https://localhost:8080/"
        },
        "id": "yQ89b4nq8GmS",
        "outputId": "25ce1232-384f-4183-86e8-fde952834049"
      },
      "source": [
        "list_data = [node.data for node in my_ll.to_list()]\n",
        "list_data"
      ],
      "execution_count": 213,
      "outputs": [
        {
          "output_type": "execute_result",
          "data": {
            "text/plain": [
              "[6, 5, 4, 3, 2, 1]"
            ]
          },
          "metadata": {},
          "execution_count": 213
        }
      ]
    },
    {
      "cell_type": "code",
      "metadata": {
        "id": "WBCzvCBC2ew5"
      },
      "source": [
        "my_ll.add_item_at_tail(8)"
      ],
      "execution_count": 214,
      "outputs": []
    },
    {
      "cell_type": "code",
      "metadata": {
        "colab": {
          "base_uri": "https://localhost:8080/"
        },
        "id": "K2y4avbc2e2B",
        "outputId": "5fa0de1a-1dd6-449a-a027-c51e98b547e4"
      },
      "source": [
        "head = my_ll.peek_head()\n",
        "tail = my_ll.peek_tail()\n",
        "print(head.data)\n",
        "print(tail.data)"
      ],
      "execution_count": 215,
      "outputs": [
        {
          "output_type": "stream",
          "name": "stdout",
          "text": [
            "6\n",
            "8\n"
          ]
        }
      ]
    },
    {
      "cell_type": "code",
      "metadata": {
        "colab": {
          "base_uri": "https://localhost:8080/"
        },
        "id": "PO3M-84M8N21",
        "outputId": "b9b45532-c1ad-4f75-8fbf-39dcafe0fa49"
      },
      "source": [
        "list_data = [node.data for node in my_ll.to_list()]\n",
        "list_data"
      ],
      "execution_count": 216,
      "outputs": [
        {
          "output_type": "execute_result",
          "data": {
            "text/plain": [
              "[6, 5, 4, 3, 2, 1, 8]"
            ]
          },
          "metadata": {},
          "execution_count": 216
        }
      ]
    },
    {
      "cell_type": "code",
      "metadata": {
        "id": "DPfrMwfM2hE9"
      },
      "source": [
        "my_ll.add_item_at_tail(9)\n",
        "my_ll.add_item_at_tail(\"a\")\n",
        "my_ll.add_item_at_tail(\"b\")\n",
        "my_ll.add_item_at_tail(\"c\")"
      ],
      "execution_count": 217,
      "outputs": []
    },
    {
      "cell_type": "code",
      "metadata": {
        "colab": {
          "base_uri": "https://localhost:8080/"
        },
        "id": "i-7b2OvH2hsJ",
        "outputId": "3458ae01-de90-4c06-ea5a-8d05fc56c5c8"
      },
      "source": [
        "head = my_ll.peek_head()\n",
        "tail = my_ll.peek_tail()\n",
        "print(head.data)\n",
        "print(tail.data)"
      ],
      "execution_count": 218,
      "outputs": [
        {
          "output_type": "stream",
          "name": "stdout",
          "text": [
            "6\n",
            "c\n"
          ]
        }
      ]
    },
    {
      "cell_type": "code",
      "metadata": {
        "colab": {
          "base_uri": "https://localhost:8080/"
        },
        "id": "58Qfij6c8QWM",
        "outputId": "ac7f2f0e-205c-4dfe-c701-b9a9f6c79b62"
      },
      "source": [
        "list_data = [node.data for node in my_ll.to_list()]\n",
        "list_data"
      ],
      "execution_count": 219,
      "outputs": [
        {
          "output_type": "execute_result",
          "data": {
            "text/plain": [
              "[6, 5, 4, 3, 2, 1, 8, 9, 'a', 'b', 'c']"
            ]
          },
          "metadata": {},
          "execution_count": 219
        }
      ]
    },
    {
      "cell_type": "code",
      "metadata": {
        "colab": {
          "base_uri": "https://localhost:8080/"
        },
        "id": "HJaV6OQg2h8S",
        "outputId": "42b49143-0866-4d48-d0a7-5d91db2059d4"
      },
      "source": [
        "delete_head = my_ll.delete_head()\n",
        "delete_head.data"
      ],
      "execution_count": 220,
      "outputs": [
        {
          "output_type": "execute_result",
          "data": {
            "text/plain": [
              "6"
            ]
          },
          "metadata": {},
          "execution_count": 220
        }
      ]
    },
    {
      "cell_type": "code",
      "metadata": {
        "colab": {
          "base_uri": "https://localhost:8080/"
        },
        "id": "JZIAHki43DaZ",
        "outputId": "32c10674-03ce-4b26-efcf-57b90606e311"
      },
      "source": [
        "head = my_ll.peek_head()\n",
        "tail = my_ll.peek_tail()\n",
        "print(head.data)\n",
        "print(tail.data)"
      ],
      "execution_count": 221,
      "outputs": [
        {
          "output_type": "stream",
          "name": "stdout",
          "text": [
            "5\n",
            "c\n"
          ]
        }
      ]
    },
    {
      "cell_type": "code",
      "metadata": {
        "colab": {
          "base_uri": "https://localhost:8080/"
        },
        "id": "L13181Ms7eb-",
        "outputId": "01690779-01bd-4945-f4b6-0e64e9cdaeb4"
      },
      "source": [
        "list_data = [node.data for node in my_ll.to_list()]\n",
        "list_data"
      ],
      "execution_count": 222,
      "outputs": [
        {
          "output_type": "execute_result",
          "data": {
            "text/plain": [
              "[5, 4, 3, 2, 1, 8, 9, 'a', 'b', 'c']"
            ]
          },
          "metadata": {},
          "execution_count": 222
        }
      ]
    },
    {
      "cell_type": "markdown",
      "metadata": {
        "id": "tqwP92B10Hmp"
      },
      "source": [
        "Doubly Linked List"
      ]
    },
    {
      "cell_type": "code",
      "metadata": {
        "id": "LUBQKSnHx1Z5"
      },
      "source": [
        "class NodeLinkedListDoubly:\n",
        "\n",
        "  def __init__(self, data=None, next_node=None, prev_node=None):\n",
        "    self.data = data\n",
        "    self.next_node = next_node\n",
        "    self.prev_node = prev_node\n",
        "\n",
        "class DoublyLinkedList:\n",
        "\n",
        "  def __init__(self):\n",
        "    self.head = None\n",
        "    self.tail = None\n",
        "  \n",
        "  def add_item_at_head(self, data):\n",
        "\n",
        "    if self.head is None:\n",
        "      self.head = self.tail = NodeLinkedListDoubly(data, None, None)\n",
        "      return\n",
        "    \n",
        "    self.head.prev_node = NodeLinkedListDoubly(data, self.head, None)\n",
        "    self.head = self.head.prev_node\n",
        "    return\n",
        "  \n",
        "  def add_item_at_tail(self, data):\n",
        "\n",
        "    if self.head is None:\n",
        "      self.add_item_at_head(data)\n",
        "      return\n",
        "    \n",
        "    self.tail.next_node = NodeLinkedListDoubly(data, None, self.tail)\n",
        "    self.tail = self.tail.next_node\n",
        "    return    \n",
        "\n",
        "  def peek_head(self):\n",
        "    if self.head is None:\n",
        "      return \"No Data\"\n",
        "    return self.head\n",
        "  \n",
        "  def peek_tail(self):\n",
        "    if self.head is None:\n",
        "      return \"No Data\"\n",
        "    return self.tail\n",
        "  \n",
        "  def delete_head(self):\n",
        "    if self.head is None:\n",
        "      return print(\"Linked List contain no Data.\")\n",
        "    node = self.head\n",
        "    self.head = node.next_node\n",
        "  \n",
        "  def to_list(self):\n",
        "    list_ = []\n",
        "    if self.head is None:\n",
        "      return list_\n",
        "    \n",
        "    node = self.head\n",
        "    while node:\n",
        "      list_.append(node)\n",
        "      node = node.next_node\n",
        "    return list_"
      ],
      "execution_count": 248,
      "outputs": []
    },
    {
      "cell_type": "code",
      "metadata": {
        "id": "lfHwJzh3_HMW"
      },
      "source": [
        "my_double_ll = DoublyLinkedList()"
      ],
      "execution_count": 249,
      "outputs": []
    },
    {
      "cell_type": "code",
      "metadata": {
        "colab": {
          "base_uri": "https://localhost:8080/",
          "height": 35
        },
        "id": "QdepLyZ0_lXj",
        "outputId": "da92a5bf-dfc4-433b-8bfd-3783201238e0"
      },
      "source": [
        "head = my_double_ll.peek_head()\n",
        "head"
      ],
      "execution_count": 250,
      "outputs": [
        {
          "output_type": "execute_result",
          "data": {
            "application/vnd.google.colaboratory.intrinsic+json": {
              "type": "string"
            },
            "text/plain": [
              "'No Data'"
            ]
          },
          "metadata": {},
          "execution_count": 250
        }
      ]
    },
    {
      "cell_type": "code",
      "metadata": {
        "colab": {
          "base_uri": "https://localhost:8080/",
          "height": 35
        },
        "id": "79YnS8t3_-CC",
        "outputId": "def079a8-e6d5-4a50-eed2-c58d76446be9"
      },
      "source": [
        "tail = my_double_ll.peek_tail()\n",
        "tail"
      ],
      "execution_count": 251,
      "outputs": [
        {
          "output_type": "execute_result",
          "data": {
            "application/vnd.google.colaboratory.intrinsic+json": {
              "type": "string"
            },
            "text/plain": [
              "'No Data'"
            ]
          },
          "metadata": {},
          "execution_count": 251
        }
      ]
    },
    {
      "cell_type": "code",
      "metadata": {
        "id": "VfFk70xjACCD"
      },
      "source": [
        "my_double_ll.add_item_at_head(1)"
      ],
      "execution_count": 252,
      "outputs": []
    },
    {
      "cell_type": "code",
      "metadata": {
        "colab": {
          "base_uri": "https://localhost:8080/"
        },
        "id": "_r7zWREd_N8B",
        "outputId": "f5d64d00-6990-4db4-f171-1bebb7a0150b"
      },
      "source": [
        "head = my_double_ll.peek_head()\n",
        "tail = my_double_ll.peek_tail()\n",
        "print(head.data)\n",
        "print(head.next_node)\n",
        "print(head.prev_node)\n",
        "print(tail.data)\n",
        "print(tail.next_node)\n",
        "print(tail.prev_node)"
      ],
      "execution_count": 253,
      "outputs": [
        {
          "output_type": "stream",
          "name": "stdout",
          "text": [
            "1\n",
            "None\n",
            "None\n",
            "1\n",
            "None\n",
            "None\n"
          ]
        }
      ]
    },
    {
      "cell_type": "code",
      "metadata": {
        "id": "pp5MNgYG_fyJ"
      },
      "source": [
        "my_double_ll.add_item_at_head(2)"
      ],
      "execution_count": 254,
      "outputs": []
    },
    {
      "cell_type": "code",
      "metadata": {
        "colab": {
          "base_uri": "https://localhost:8080/"
        },
        "id": "fChqhXsrAJFA",
        "outputId": "68e7f6a6-51b3-4333-ed86-c539b0a3c0a2"
      },
      "source": [
        "head = my_double_ll.peek_head()\n",
        "tail = my_double_ll.peek_tail()\n",
        "print(head.data)\n",
        "print(head.next_node)\n",
        "print(head.prev_node)\n",
        "print(tail.data)\n",
        "print(tail.next_node)\n",
        "print(tail.prev_node)"
      ],
      "execution_count": 255,
      "outputs": [
        {
          "output_type": "stream",
          "name": "stdout",
          "text": [
            "2\n",
            "<__main__.NodeLinkedListDoubly object at 0x7fbf35998710>\n",
            "None\n",
            "1\n",
            "None\n",
            "<__main__.NodeLinkedListDoubly object at 0x7fbf3597b4d0>\n"
          ]
        }
      ]
    },
    {
      "cell_type": "code",
      "metadata": {
        "id": "JvWSyxB5AKm4"
      },
      "source": [
        "my_double_ll.add_item_at_head(3)"
      ],
      "execution_count": 256,
      "outputs": []
    },
    {
      "cell_type": "code",
      "metadata": {
        "colab": {
          "base_uri": "https://localhost:8080/"
        },
        "id": "zlT2EqVyB0EG",
        "outputId": "c47fe314-a5a3-45a4-8b1b-4a0247e4a04b"
      },
      "source": [
        "head = my_double_ll.peek_head()\n",
        "tail = my_double_ll.peek_tail()\n",
        "print(head.data)\n",
        "print(head.next_node)\n",
        "print(head.prev_node)\n",
        "print(tail.data)\n",
        "print(tail.next_node)\n",
        "print(tail.prev_node)"
      ],
      "execution_count": 257,
      "outputs": [
        {
          "output_type": "stream",
          "name": "stdout",
          "text": [
            "3\n",
            "<__main__.NodeLinkedListDoubly object at 0x7fbf3597b4d0>\n",
            "None\n",
            "1\n",
            "None\n",
            "<__main__.NodeLinkedListDoubly object at 0x7fbf3597b4d0>\n"
          ]
        }
      ]
    },
    {
      "cell_type": "code",
      "metadata": {
        "colab": {
          "base_uri": "https://localhost:8080/"
        },
        "id": "yn31bwQwB04C",
        "outputId": "e30eec59-2adc-4350-d8d5-052410ecf7dc"
      },
      "source": [
        "list_data = [node for node in my_double_ll.to_list()]\n",
        "for node in list_data:\n",
        "  print(node.prev_node)\n",
        "  print(node.data)\n",
        "  print(node.next_node)\n",
        "  print(\"-\" * 20)"
      ],
      "execution_count": 258,
      "outputs": [
        {
          "output_type": "stream",
          "name": "stdout",
          "text": [
            "None\n",
            "3\n",
            "<__main__.NodeLinkedListDoubly object at 0x7fbf3597b4d0>\n",
            "--------------------\n",
            "<__main__.NodeLinkedListDoubly object at 0x7fbf35992510>\n",
            "2\n",
            "<__main__.NodeLinkedListDoubly object at 0x7fbf35998710>\n",
            "--------------------\n",
            "<__main__.NodeLinkedListDoubly object at 0x7fbf3597b4d0>\n",
            "1\n",
            "None\n",
            "--------------------\n"
          ]
        }
      ]
    },
    {
      "cell_type": "code",
      "metadata": {
        "id": "hn1OYZOJCRKf"
      },
      "source": [
        "my_double_ll.add_item_at_head(4)\n",
        "my_double_ll.add_item_at_head(5)\n",
        "my_double_ll.add_item_at_head(\"a\")\n",
        "my_double_ll.add_item_at_head(\"b\")"
      ],
      "execution_count": 259,
      "outputs": []
    },
    {
      "cell_type": "code",
      "metadata": {
        "colab": {
          "base_uri": "https://localhost:8080/"
        },
        "id": "BeD123r_CYJX",
        "outputId": "bfd242f7-6f6b-46c0-a026-d4f5716e9ddc"
      },
      "source": [
        "list_ = [node for node in my_double_ll.to_list()]\n",
        "list_data = [node.data for node in list_]\n",
        "print(list_data)\n",
        "for node in list_:\n",
        "  print(node.prev_node)\n",
        "  print(node.data)\n",
        "  print(node.next_node)\n",
        "  print(\"-\" * 20)"
      ],
      "execution_count": 263,
      "outputs": [
        {
          "output_type": "stream",
          "name": "stdout",
          "text": [
            "['b', 'a', 5, 4, 3, 2, 1]\n",
            "None\n",
            "b\n",
            "<__main__.NodeLinkedListDoubly object at 0x7fbf3597b210>\n",
            "--------------------\n",
            "<__main__.NodeLinkedListDoubly object at 0x7fbf3597b510>\n",
            "a\n",
            "<__main__.NodeLinkedListDoubly object at 0x7fbf3597bcd0>\n",
            "--------------------\n",
            "<__main__.NodeLinkedListDoubly object at 0x7fbf3597b210>\n",
            "5\n",
            "<__main__.NodeLinkedListDoubly object at 0x7fbf3597b6d0>\n",
            "--------------------\n",
            "<__main__.NodeLinkedListDoubly object at 0x7fbf3597bcd0>\n",
            "4\n",
            "<__main__.NodeLinkedListDoubly object at 0x7fbf35992510>\n",
            "--------------------\n",
            "<__main__.NodeLinkedListDoubly object at 0x7fbf3597b6d0>\n",
            "3\n",
            "<__main__.NodeLinkedListDoubly object at 0x7fbf3597b4d0>\n",
            "--------------------\n",
            "<__main__.NodeLinkedListDoubly object at 0x7fbf35992510>\n",
            "2\n",
            "<__main__.NodeLinkedListDoubly object at 0x7fbf35998710>\n",
            "--------------------\n",
            "<__main__.NodeLinkedListDoubly object at 0x7fbf3597b4d0>\n",
            "1\n",
            "None\n",
            "--------------------\n"
          ]
        }
      ]
    },
    {
      "cell_type": "code",
      "metadata": {
        "colab": {
          "base_uri": "https://localhost:8080/"
        },
        "id": "RMdICR9dCfZR",
        "outputId": "a5b1edce-931a-435d-c437-d40656ae00ee"
      },
      "source": [
        "head = my_double_ll.peek_head()\n",
        "tail = my_double_ll.peek_tail()\n",
        "print(head.data)\n",
        "print(head.next_node)\n",
        "print(head.prev_node)\n",
        "print(tail.data)\n",
        "print(tail.next_node)\n",
        "print(tail.prev_node)"
      ],
      "execution_count": 264,
      "outputs": [
        {
          "output_type": "stream",
          "name": "stdout",
          "text": [
            "b\n",
            "<__main__.NodeLinkedListDoubly object at 0x7fbf3597b210>\n",
            "None\n",
            "1\n",
            "None\n",
            "<__main__.NodeLinkedListDoubly object at 0x7fbf3597b4d0>\n"
          ]
        }
      ]
    },
    {
      "cell_type": "code",
      "metadata": {
        "id": "9grSk8V3Ck_k"
      },
      "source": [
        ""
      ],
      "execution_count": null,
      "outputs": []
    }
  ]
}