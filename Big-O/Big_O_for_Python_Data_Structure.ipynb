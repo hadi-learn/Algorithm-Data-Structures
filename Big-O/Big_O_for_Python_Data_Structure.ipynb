{
  "nbformat": 4,
  "nbformat_minor": 0,
  "metadata": {
    "colab": {
      "name": "Big O for Python Data Structure.ipynb",
      "provenance": [],
      "collapsed_sections": []
    },
    "kernelspec": {
      "name": "python3",
      "display_name": "Python 3"
    },
    "language_info": {
      "name": "python"
    }
  },
  "cells": [
    {
      "cell_type": "markdown",
      "metadata": {
        "id": "wfXjIt2mXJps"
      },
      "source": [
        "**Big O for Python Data Structure**"
      ]
    },
    {
      "cell_type": "markdown",
      "metadata": {
        "id": "BBSvhp9LXXI5"
      },
      "source": [
        "****Lists****"
      ]
    },
    {
      "cell_type": "code",
      "metadata": {
        "id": "yW8a3ST3Yu95"
      },
      "source": [
        "def short_method1():\n",
        "  l = []\n",
        "  for n in range(20):\n",
        "    l += [n]\n",
        "  return l\n",
        "\n",
        "def short_method2():\n",
        "  l = []\n",
        "  for n in range(20):\n",
        "    l.append(n)\n",
        "  return l\n",
        "\n",
        "def short_method3():\n",
        "  l = [n for n in range(20)]\n",
        "  return l\n",
        "\n",
        "def short_method4():\n",
        "  l = list(range(20))\n",
        "  return l"
      ],
      "execution_count": 13,
      "outputs": []
    },
    {
      "cell_type": "code",
      "metadata": {
        "colab": {
          "base_uri": "https://localhost:8080/"
        },
        "id": "ZLZ-B7GgY4eM",
        "outputId": "8caeedc6-5580-4af1-fbe1-b6aec8d75398"
      },
      "source": [
        "short_method1()"
      ],
      "execution_count": 9,
      "outputs": [
        {
          "output_type": "execute_result",
          "data": {
            "text/plain": [
              "[0, 1, 2, 3, 4, 5, 6, 7, 8, 9, 10, 11, 12, 13, 14, 15, 16, 17, 18, 19]"
            ]
          },
          "metadata": {},
          "execution_count": 9
        }
      ]
    },
    {
      "cell_type": "code",
      "metadata": {
        "colab": {
          "base_uri": "https://localhost:8080/"
        },
        "id": "mupNwbtAZHTz",
        "outputId": "f27beb24-d2cb-405e-bff0-9bbc15152ab1"
      },
      "source": [
        "short_method2()"
      ],
      "execution_count": 10,
      "outputs": [
        {
          "output_type": "execute_result",
          "data": {
            "text/plain": [
              "[0, 1, 2, 3, 4, 5, 6, 7, 8, 9, 10, 11, 12, 13, 14, 15, 16, 17, 18, 19]"
            ]
          },
          "metadata": {},
          "execution_count": 10
        }
      ]
    },
    {
      "cell_type": "code",
      "metadata": {
        "colab": {
          "base_uri": "https://localhost:8080/"
        },
        "id": "o8udbRovZHe_",
        "outputId": "c0026076-e065-479a-bcb4-4e9c8eccd6f1"
      },
      "source": [
        "short_method3()"
      ],
      "execution_count": 11,
      "outputs": [
        {
          "output_type": "execute_result",
          "data": {
            "text/plain": [
              "[0, 1, 2, 3, 4, 5, 6, 7, 8, 9, 10, 11, 12, 13, 14, 15, 16, 17, 18, 19]"
            ]
          },
          "metadata": {},
          "execution_count": 11
        }
      ]
    },
    {
      "cell_type": "code",
      "metadata": {
        "colab": {
          "base_uri": "https://localhost:8080/"
        },
        "id": "2f31yGPmZHsS",
        "outputId": "635ff3a4-8568-4401-b1e0-f27cfa9cf162"
      },
      "source": [
        "short_method4()"
      ],
      "execution_count": 14,
      "outputs": [
        {
          "output_type": "execute_result",
          "data": {
            "text/plain": [
              "[0, 1, 2, 3, 4, 5, 6, 7, 8, 9, 10, 11, 12, 13, 14, 15, 16, 17, 18, 19]"
            ]
          },
          "metadata": {},
          "execution_count": 14
        }
      ]
    },
    {
      "cell_type": "code",
      "metadata": {
        "id": "ghDoataBXM4l"
      },
      "source": [
        "def method1():\n",
        "  l = []\n",
        "  for n in range(10000):\n",
        "    l += [n]\n",
        "\n",
        "def method2():\n",
        "  l = []\n",
        "  for n in range(10000):\n",
        "    l.append(n)\n",
        "\n",
        "def method3():\n",
        "  l = [n for n in range(10000)]\n",
        "\n",
        "def method4():\n",
        "  l = list(range(10000))"
      ],
      "execution_count": 15,
      "outputs": []
    },
    {
      "cell_type": "markdown",
      "metadata": {
        "id": "hHkfl6CcYR8R"
      },
      "source": [
        "Let's now test these methods using %timeit builtin function"
      ]
    },
    {
      "cell_type": "code",
      "metadata": {
        "colab": {
          "base_uri": "https://localhost:8080/"
        },
        "id": "bbaoHi0JYNxD",
        "outputId": "6b4cca80-f734-4961-e2ec-e757f43e9ea0"
      },
      "source": [
        "%timeit method1()\n",
        "%timeit method2()\n",
        "%timeit method3()\n",
        "%timeit method4()"
      ],
      "execution_count": 16,
      "outputs": [
        {
          "output_type": "stream",
          "name": "stdout",
          "text": [
            "1000 loops, best of 5: 938 µs per loop\n",
            "1000 loops, best of 5: 858 µs per loop\n",
            "1000 loops, best of 5: 414 µs per loop\n",
            "10000 loops, best of 5: 162 µs per loop\n"
          ]
        }
      ]
    },
    {
      "cell_type": "markdown",
      "metadata": {
        "id": "sCVSpBB4ar8C"
      },
      "source": [
        "**Table of Big-O for common list operations**"
      ]
    },
    {
      "cell_type": "markdown",
      "metadata": {
        "id": "GiByjPLiamqE"
      },
      "source": [
        "![big-o-for-lists.PNG](data:image/png;base64,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)"
      ]
    },
    {
      "cell_type": "markdown",
      "metadata": {
        "id": "t1KVsDh2Z6JH"
      },
      "source": [
        "**Dictionaries**"
      ]
    },
    {
      "cell_type": "code",
      "metadata": {
        "id": "6GoXI4YdYiNB"
      },
      "source": [
        "d = {\n",
        "  \"k1\": 1,\n",
        "  \"k2\": 2,\n",
        "}"
      ],
      "execution_count": 17,
      "outputs": []
    },
    {
      "cell_type": "code",
      "metadata": {
        "colab": {
          "base_uri": "https://localhost:8080/"
        },
        "id": "Yjlyzz8UaJHD",
        "outputId": "b179f8b0-37eb-44bf-bcc3-50b19d2342f8"
      },
      "source": [
        "d[\"k1\"]"
      ],
      "execution_count": 18,
      "outputs": [
        {
          "output_type": "execute_result",
          "data": {
            "text/plain": [
              "1"
            ]
          },
          "metadata": {},
          "execution_count": 18
        }
      ]
    },
    {
      "cell_type": "markdown",
      "metadata": {
        "id": "fch74stRa5Wb"
      },
      "source": [
        "**Table of Big-O for common dictionaries operation**"
      ]
    },
    {
      "cell_type": "markdown",
      "metadata": {
        "id": "33Cvh-M8a_49"
      },
      "source": [
        "![big-o-for-dictionaries.PNG](data:image/png;base64,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)"
      ]
    },
    {
      "cell_type": "markdown",
      "metadata": {
        "id": "uTYTOT3GaLg9"
      },
      "source": [
        "**Conclusion**"
      ]
    },
    {
      "cell_type": "markdown",
      "metadata": {
        "id": "zuF6yMfmaTH2"
      },
      "source": [
        "By the end of this section you should have an understanding of how Big-O is used in Algorithm analysis and be able to work out the Big-O of an algorithm you've developed. Get ready, there's a quiz up next!"
      ]
    }
  ]
}